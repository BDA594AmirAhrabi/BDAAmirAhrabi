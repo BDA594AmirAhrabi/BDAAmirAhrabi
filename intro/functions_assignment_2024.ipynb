{
  "cells": [
    {
      "cell_type": "markdown",
      "metadata": {
        "id": "TQSnfPhS0f6o"
      },
      "source": [
        "# Functions, types, loops assignment"
      ]
    },
    {
      "cell_type": "markdown",
      "metadata": {
        "id": "yZbmHYZT0f6q"
      },
      "source": [
        "## Exercise 1"
      ]
    },
    {
      "cell_type": "markdown",
      "metadata": {
        "id": "tlRxGA9u0f6r"
      },
      "source": [
        "Add a line of code that will generate the give output::\n",
        "\n",
        "     In [ ]: a_list = [2,7,8, 19]\n",
        "             YOUR CODE HERE\n",
        "     Out [ ]: 2\n",
        "     \n",
        "NOTE: The idea of this kind of exercise is to write a line of code\n",
        "that will produce the given output, 2 in this case.  Your\n",
        "answer goes in the next cell, which is a code cell.  It should this be an\n",
        "expression that operates on `a_list`.  A simple correct answer is:\n",
        "\n",
        "     In [ ]: a_list = [2,7,8, 19]\n",
        "             a_list[0]\n",
        "     Out [ ]: 2\n",
        "     \n",
        "Don't forget to evaluate the cell after you've written in your answer to generate Python's output and check your answer!\n"
      ]
    },
    {
      "cell_type": "code",
      "execution_count": 1,
      "metadata": {
        "colab": {
          "base_uri": "https://localhost:8080/"
        },
        "id": "n79RkJa40f6t",
        "outputId": "2ef402c6-f7e7-4198-b62e-f82e18a984a0"
      },
      "outputs": [
        {
          "output_type": "execute_result",
          "data": {
            "text/plain": [
              "2"
            ]
          },
          "metadata": {},
          "execution_count": 1
        }
      ],
      "source": [
        "a_list = [2,7,8, 19]\n",
        "a_list[0]"
      ]
    },
    {
      "cell_type": "markdown",
      "metadata": {
        "id": "-scW7Zad0f6u"
      },
      "source": [
        "## Exercise 2"
      ]
    },
    {
      "cell_type": "markdown",
      "metadata": {
        "id": "Py5rFFdA0f6u"
      },
      "source": [
        "  Write a line of code that produces the given output.  Use a splice with a \"steps\" component.\n",
        "   \n",
        "    In [ ]: X = 'abcdefghij'\n",
        "             YOUR CODE HERE\n",
        "    Out [ ]: 'acegi'"
      ]
    },
    {
      "cell_type": "code",
      "execution_count": 2,
      "metadata": {
        "id": "7CJANXeL0f6u"
      },
      "outputs": [],
      "source": [
        "X  = 'abcdefghij'\n",
        "# Your code here"
      ]
    },
    {
      "cell_type": "code",
      "source": [
        "X = 'abcdefghij'\n",
        "result = X[::2]\n",
        "print(result)"
      ],
      "metadata": {
        "colab": {
          "base_uri": "https://localhost:8080/"
        },
        "id": "vx-y_0pR1joF",
        "outputId": "a77e8c19-3fa6-418e-e3f1-57fab1041a58"
      },
      "execution_count": 3,
      "outputs": [
        {
          "output_type": "stream",
          "name": "stdout",
          "text": [
            "acegi\n"
          ]
        }
      ]
    },
    {
      "cell_type": "markdown",
      "metadata": {
        "id": "hGWOmhYv0f6u"
      },
      "source": [
        "## Exercise 3"
      ]
    },
    {
      "cell_type": "markdown",
      "metadata": {
        "id": "9gX8w04I0f6u"
      },
      "source": [
        " Write a line of code that produces the given output:\n",
        "   \n",
        "     In [ ]: S, T = set('abc'), set('cde')\n",
        "           YOUR CODE HERE\n",
        "     Out [ ]: {'c'}\n",
        "\n",
        "Hint.  Each Python type has its own methods.  For instance, strings have a `.title()` method that capitalizes them.  For this problem use a method that is particular to **sets** on the two sets `S` and `T`.  See the [Set Operations Notebook](https://colab.research.google.com/github/gawron/python-for-social-science/blob/master/intro/set_operations.ipynb) for a discussion of set methods. Also see [Van DerPlas's Whirlwind Tour, Ch. 6.](https://colab.research.google.com/github/jakevdp/WhirlwindTourOfPython/blob/6f1daf714fe52a8dde6a288674ba46a7feed8816/06-Built-in-Data-Structures.ipynb)"
      ]
    },
    {
      "cell_type": "code",
      "execution_count": null,
      "metadata": {
        "id": "6oYu51yf0f6v"
      },
      "outputs": [],
      "source": [
        "S, T = set('abc'), set('cde')\n",
        "# Your code here"
      ]
    },
    {
      "cell_type": "code",
      "source": [
        "S, T = set('abc'), set('cde')\n",
        "result = S.intersection(T)\n",
        "print(result)"
      ],
      "metadata": {
        "colab": {
          "base_uri": "https://localhost:8080/"
        },
        "id": "eAvvQZwu1xju",
        "outputId": "8e937425-78ef-4a07-a85a-920f000eaf86"
      },
      "execution_count": 4,
      "outputs": [
        {
          "output_type": "stream",
          "name": "stdout",
          "text": [
            "{'c'}\n"
          ]
        }
      ]
    },
    {
      "cell_type": "markdown",
      "metadata": {
        "id": "pNRnmBv_0f6v"
      },
      "source": [
        "## Exercise 4"
      ]
    },
    {
      "cell_type": "markdown",
      "metadata": {
        "id": "oQ3S4SiV0f6v"
      },
      "source": [
        " Write a line of code that produces the given output:\n",
        "   \n",
        "     In [ ]: a_list = [2,7,8, 19]\n",
        "           YOUR CODE HERE\n",
        "     Out [ ]: [22,27,28,39]\n",
        "    \n",
        "Hint: Try a list comprehension. Look at [Whirlwind Tour](https://colab.research.google.com/github/jakevdp/WhirlwindTourOfPython/blob/6f1daf714fe52a8dde6a288674ba46a7feed8816/11-List-Comprehensions.ipynb) for a quick review of list comprehensions."
      ]
    },
    {
      "cell_type": "code",
      "execution_count": null,
      "metadata": {
        "id": "GjaKshI60f6v"
      },
      "outputs": [],
      "source": [
        "a_list = [2,7,8, 19]\n",
        "#your code here"
      ]
    },
    {
      "cell_type": "code",
      "source": [
        "a_list = [2, 7, 8, 19]\n",
        "result = [x + 20 for x in a_list]\n",
        "print(result)"
      ],
      "metadata": {
        "colab": {
          "base_uri": "https://localhost:8080/"
        },
        "id": "ig4FeG5z16Hr",
        "outputId": "6997e3b7-4b50-48d7-cd43-1bded36f4596"
      },
      "execution_count": 5,
      "outputs": [
        {
          "output_type": "stream",
          "name": "stdout",
          "text": [
            "[22, 27, 28, 39]\n"
          ]
        }
      ]
    },
    {
      "cell_type": "markdown",
      "metadata": {
        "id": "nEnaMxRL0f6v"
      },
      "source": [
        "## Exercise 5"
      ]
    },
    {
      "cell_type": "markdown",
      "metadata": {
        "id": "fnqFrT7J0f6v"
      },
      "source": [
        "Write a line of code that produces the given output.\n",
        "\n",
        "Hint Remember that list comprehensions can also be used as filters. Look at [Whirlwind Tour](https://colab.research.google.com/github/jakevdp/WhirlwindTourOfPython/blob/6f1daf714fe52a8dde6a288674ba46a7feed8816/11-List-Comprehensions.ipynb) for a quick review of list comprehensions.\n",
        "\n",
        "```\n",
        "In [ ]: a_list = [2,7,8, 19]\n",
        "In [ ]: # Your code           \n",
        "Out [ ]: [22,27]\n",
        " ```"
      ]
    },
    {
      "cell_type": "code",
      "execution_count": null,
      "metadata": {
        "id": "xOLVDh0s0f6v"
      },
      "outputs": [],
      "source": [
        "# YOUR CODE GOES UNDER HERE\n",
        "a_list = [2,7,8, 19]\n",
        "\n",
        "#Your code here"
      ]
    },
    {
      "cell_type": "code",
      "source": [
        "a_list = [2, 7, 8, 19]\n",
        "result = [x + 20 for x in a_list[:2]]\n",
        "print(result)"
      ],
      "metadata": {
        "colab": {
          "base_uri": "https://localhost:8080/"
        },
        "id": "78VIDjUt2Dcy",
        "outputId": "0a6a4694-637b-4c55-940d-88e0e8dd655c"
      },
      "execution_count": 14,
      "outputs": [
        {
          "output_type": "stream",
          "name": "stdout",
          "text": [
            "[22, 27]\n"
          ]
        }
      ]
    },
    {
      "cell_type": "markdown",
      "metadata": {
        "id": "8tJ9tLoo0f6v"
      },
      "source": [
        "## Exercise 6"
      ]
    },
    {
      "cell_type": "markdown",
      "metadata": {
        "id": "qwFxQj3P0f6v"
      },
      "source": [
        "Write a function that finds all the consonants in a string.  As a help, the list of vowels is given below.  The beginning\n",
        "of the function definition has been given with a `pass` as the body.  \n",
        "\n",
        "It should work as in the following examples.\n",
        "\n",
        "```\n",
        ">>> find_consonants('baker')\n",
        "'bkr'\n",
        ">>> find_consonants('abracadabra')\n",
        "'brcdbr'\n",
        ">>> find_consonants('mississippi is the place for me')\n",
        "'mssssppsthplcfrm'\n",
        "```\n",
        "\n",
        "As the argument of the function, use the name that has been supplied.\n",
        "Replace the `pass` with the correct definition of the function.\n",
        "\n",
        "For those interested in more of a challenge, you may add 'sometimes y' to the list of vowels. The letter `'y'` is a vowel in \"Mary\" and \"Plymouth\" and \"play\", but not in \"youth\"."
      ]
    },
    {
      "cell_type": "code",
      "execution_count": 15,
      "metadata": {
        "id": "N6_HISxX0f6v"
      },
      "outputs": [],
      "source": [
        "vowels = 'aeiou'\n",
        "def find_consonants():\n",
        "    pass"
      ]
    },
    {
      "cell_type": "code",
      "execution_count": 18,
      "metadata": {
        "id": "Kiu7SH1c0f6v"
      },
      "outputs": [],
      "source": [
        "#  STEP BY STEP SOLUTION\n",
        "# Write a list comprehension that removes the non vowels in a string S\n",
        "vowels = 'aeiou'\n",
        "X = 'baker'\n",
        "# Your code here use the variable L for the list returned by the list comprehension"
      ]
    },
    {
      "cell_type": "code",
      "source": [
        "def find_consonants(input_string):\n",
        "    vowels = 'aeiou'\n",
        "    consonants = [char for char in input_string if char.isalpha() and char.lower() not in vowels]\n",
        "    return ''.join(consonants)\n"
      ],
      "metadata": {
        "id": "nHDKEonf27Ug"
      },
      "execution_count": 21,
      "outputs": []
    },
    {
      "cell_type": "code",
      "execution_count": 22,
      "metadata": {
        "colab": {
          "base_uri": "https://localhost:8080/",
          "height": 156
        },
        "id": "NY_kzWCW0f6w",
        "outputId": "1cf2497e-a422-45a8-8aa4-bad4405f6ef7"
      },
      "outputs": [
        {
          "output_type": "error",
          "ename": "NameError",
          "evalue": "name 'L' is not defined",
          "traceback": [
            "\u001b[0;31m---------------------------------------------------------------------------\u001b[0m",
            "\u001b[0;31mNameError\u001b[0m                                 Traceback (most recent call last)",
            "\u001b[0;32m<ipython-input-22-338729b9f289>\u001b[0m in \u001b[0;36m<cell line: 2>\u001b[0;34m()\u001b[0m\n\u001b[1;32m      1\u001b[0m \u001b[0;31m# Turn L into a string\u001b[0m\u001b[0;34m\u001b[0m\u001b[0;34m\u001b[0m\u001b[0m\n\u001b[0;32m----> 2\u001b[0;31m \u001b[0;34m''\u001b[0m\u001b[0;34m.\u001b[0m\u001b[0mjoin\u001b[0m\u001b[0;34m(\u001b[0m\u001b[0mL\u001b[0m\u001b[0;34m)\u001b[0m\u001b[0;34m\u001b[0m\u001b[0;34m\u001b[0m\u001b[0m\n\u001b[0m",
            "\u001b[0;31mNameError\u001b[0m: name 'L' is not defined"
          ]
        }
      ],
      "source": [
        "# Turn L into a string\n",
        "''.join(L)"
      ]
    },
    {
      "cell_type": "code",
      "execution_count": 23,
      "metadata": {
        "id": "Px19CTcj0f6w"
      },
      "outputs": [],
      "source": [
        "#  Wrap this code in a function definition. making sure\n",
        "#  to chose a parameter name X consistent with\n",
        "#  how you wrote your code and include a return statement\n",
        "\n",
        "vowels = 'aeiou'\n",
        "\n",
        "def find_consonants(X):\n",
        "    # your code here replacing pass\n",
        "    pass"
      ]
    },
    {
      "cell_type": "code",
      "execution_count": 24,
      "metadata": {
        "id": "PsU2HM8L0f6w"
      },
      "outputs": [],
      "source": [
        "## test 1\n",
        "find_consonants('baker')"
      ]
    },
    {
      "cell_type": "code",
      "execution_count": 25,
      "metadata": {
        "id": "REANlbQd0f6w"
      },
      "outputs": [],
      "source": [
        "# test 2\n",
        "find_consonants('abracadabra')"
      ]
    },
    {
      "cell_type": "code",
      "execution_count": 26,
      "metadata": {
        "id": "l-JjubbX0f6w"
      },
      "outputs": [],
      "source": [
        "# test 3\n",
        "find_consonants('mississippi is the place for me')"
      ]
    },
    {
      "cell_type": "markdown",
      "metadata": {
        "id": "Xl1jKTQC0f6w"
      },
      "source": [
        "Last example doesn't work as advertised.  Diagnosis: we should\n",
        "remove spaces along with consonants.  Keep the good ideas\n",
        "we've used so far.  Redefine what we omit. New version."
      ]
    },
    {
      "cell_type": "code",
      "execution_count": null,
      "metadata": {
        "id": "bw6RVLJI0f6w"
      },
      "outputs": [],
      "source": [
        "omit = vowels + ' '\n",
        "def find_consonants(X):\n",
        "    pass\n",
        "    #your code here"
      ]
    },
    {
      "cell_type": "code",
      "execution_count": null,
      "metadata": {
        "id": "P1ePwADw0f6w",
        "outputId": "f13b2f32-7644-4993-e60e-1c08f58ed608"
      },
      "outputs": [
        {
          "data": {
            "text/plain": [
              "'mssssppsthplcfrm'"
            ]
          },
          "execution_count": 54,
          "metadata": {},
          "output_type": "execute_result"
        }
      ],
      "source": [
        "find_consonants('mississippi is the place for me')"
      ]
    },
    {
      "cell_type": "markdown",
      "metadata": {
        "id": "Zn8m-6G_0f6w"
      },
      "source": [
        "## Exercise 7"
      ]
    },
    {
      "cell_type": "markdown",
      "metadata": {
        "id": "uKAGNWg50f6w"
      },
      "source": [
        " Write a line of code that operates on `XX` and produces the given output:\n",
        "   \n",
        "     In [ ]: XX = 'bad good sad happy'\n",
        "           YOUR CODE HERE\n",
        "     Out [ ]: [True, False, True, False]\n",
        "  \n",
        " Hint:  Try a list comprehension that collects\n",
        "  a list of the results of a Boolean test.  But remember that the elements of a string\n",
        "  are characters.  You can turn `XX` into a list of length 4 with a simple operation\n",
        "  discussed in the python_types_nb.\n"
      ]
    },
    {
      "cell_type": "markdown",
      "metadata": {
        "id": "FxxGC_2T0f6w"
      },
      "source": [
        "Solution"
      ]
    },
    {
      "cell_type": "code",
      "execution_count": null,
      "metadata": {
        "id": "g086rYEl0f6x",
        "outputId": "5171357d-a597-491f-f3f9-507822991382"
      },
      "outputs": [
        {
          "data": {
            "text/plain": [
              "[True, False, True, False]"
            ]
          },
          "execution_count": 1,
          "metadata": {},
          "output_type": "execute_result"
        }
      ],
      "source": [
        "XX = 'bad good sad happy'\n",
        "# Your code here"
      ]
    },
    {
      "cell_type": "code",
      "source": [
        "XX = 'bad good sad happy'\n",
        "result = [len(word) < 4 for word in XX.split()]\n",
        "print(result)"
      ],
      "metadata": {
        "colab": {
          "base_uri": "https://localhost:8080/"
        },
        "id": "XGPaczrE3SI8",
        "outputId": "7a362eb3-ced2-4aa2-8b7c-df42241493d7"
      },
      "execution_count": 27,
      "outputs": [
        {
          "output_type": "stream",
          "name": "stdout",
          "text": [
            "[True, False, True, False]\n"
          ]
        }
      ]
    },
    {
      "cell_type": "markdown",
      "metadata": {
        "id": "654l4rHj0f6x"
      },
      "source": [
        "## Exercise 8"
      ]
    },
    {
      "cell_type": "markdown",
      "metadata": {
        "id": "jRcUrSUN0f6x"
      },
      "source": [
        "You're having a big party.\n",
        "\n",
        "The guests will be boys and girls.   The lists are defined for you in the next cell.\n",
        "There should be 24 pairings since the pairing ('Huey', 'Susan') should count\n",
        "as the same dance partnership as ('Susan','Huey').\n",
        "\n",
        "You want to make sure there are enough dance partners and that they are all compatible.  Write a single list comprehension that will compute every possible pairing of a boy with a girl.  \n",
        "\n",
        "Hint:\n",
        "The list built by the list comprehension will be a list of tuples of length 2."
      ]
    },
    {
      "cell_type": "code",
      "execution_count": null,
      "metadata": {
        "id": "a_WPi6zj0f6x",
        "outputId": "b794ac8b-044f-4fcc-db3a-8c4c991d9ac5"
      },
      "outputs": [
        {
          "data": {
            "text/plain": [
              "[('Susan', 'Huey'),\n",
              " ('Susan', 'Fred'),\n",
              " ('Susan', 'Jason'),\n",
              " ('Susan', 'Ed'),\n",
              " ('Susan', 'Albert'),\n",
              " ('Susan', 'Louie'),\n",
              " ('Paula', 'Huey'),\n",
              " ('Paula', 'Fred'),\n",
              " ('Paula', 'Jason'),\n",
              " ('Paula', 'Ed'),\n",
              " ('Paula', 'Albert'),\n",
              " ('Paula', 'Louie'),\n",
              " ('Barbara', 'Huey'),\n",
              " ('Barbara', 'Fred'),\n",
              " ('Barbara', 'Jason'),\n",
              " ('Barbara', 'Ed'),\n",
              " ('Barbara', 'Albert'),\n",
              " ('Barbara', 'Louie'),\n",
              " ('Felicia', 'Huey'),\n",
              " ('Felicia', 'Fred'),\n",
              " ('Felicia', 'Jason'),\n",
              " ('Felicia', 'Ed'),\n",
              " ('Felicia', 'Albert'),\n",
              " ('Felicia', 'Louie')]"
            ]
          },
          "execution_count": 1,
          "metadata": {},
          "output_type": "execute_result"
        }
      ],
      "source": [
        "boys = 'Huey Fred Jason Ed Albert Louie'.split()\n",
        "girls = 'Susan Paula Barbara Felicia'.split()\n",
        "# Your code here\n"
      ]
    },
    {
      "cell_type": "code",
      "source": [
        "pairs = [(boy, girl) for boy in boys for girl in girls]\n",
        "print(pairs)\n",
        "print(len(pairs))"
      ],
      "metadata": {
        "colab": {
          "base_uri": "https://localhost:8080/"
        },
        "id": "eDgnPcsW3vMC",
        "outputId": "d8409555-aa3a-4fc8-98eb-dfdf9979977f"
      },
      "execution_count": 30,
      "outputs": [
        {
          "output_type": "stream",
          "name": "stdout",
          "text": [
            "[('Huey', 'Susan'), ('Huey', 'Paula'), ('Huey', 'Barbara'), ('Huey', 'Felicia'), ('Fred', 'Susan'), ('Fred', 'Paula'), ('Fred', 'Barbara'), ('Fred', 'Felicia'), ('Jason', 'Susan'), ('Jason', 'Paula'), ('Jason', 'Barbara'), ('Jason', 'Felicia'), ('Ed', 'Susan'), ('Ed', 'Paula'), ('Ed', 'Barbara'), ('Ed', 'Felicia'), ('Albert', 'Susan'), ('Albert', 'Paula'), ('Albert', 'Barbara'), ('Albert', 'Felicia'), ('Louie', 'Susan'), ('Louie', 'Paula'), ('Louie', 'Barbara'), ('Louie', 'Felicia')]\n",
            "24\n"
          ]
        }
      ]
    },
    {
      "cell_type": "code",
      "source": [
        "boys = 'Huey Fred Jason Ed Albert Louie'.split()\n",
        "girls = 'Susan Paula Barbara Felicia'.split()\n",
        "pairings = [(boy, girl) for boy in boys for girl in girls]\n",
        "print(pairings)\n",
        "print(len(pairings))"
      ],
      "metadata": {
        "colab": {
          "base_uri": "https://localhost:8080/"
        },
        "id": "lvZtyOZb3ZyR",
        "outputId": "a25ae22f-be8b-4e5a-f3c7-86ebd97887a8"
      },
      "execution_count": 29,
      "outputs": [
        {
          "output_type": "stream",
          "name": "stdout",
          "text": [
            "[('Huey', 'Susan'), ('Huey', 'Paula'), ('Huey', 'Barbara'), ('Huey', 'Felicia'), ('Fred', 'Susan'), ('Fred', 'Paula'), ('Fred', 'Barbara'), ('Fred', 'Felicia'), ('Jason', 'Susan'), ('Jason', 'Paula'), ('Jason', 'Barbara'), ('Jason', 'Felicia'), ('Ed', 'Susan'), ('Ed', 'Paula'), ('Ed', 'Barbara'), ('Ed', 'Felicia'), ('Albert', 'Susan'), ('Albert', 'Paula'), ('Albert', 'Barbara'), ('Albert', 'Felicia'), ('Louie', 'Susan'), ('Louie', 'Paula'), ('Louie', 'Barbara'), ('Louie', 'Felicia')]\n",
            "24\n"
          ]
        }
      ]
    },
    {
      "cell_type": "markdown",
      "metadata": {
        "id": "XcCJKBJN0f6x"
      },
      "source": [
        "You suddenly remember that boys don't always dance with girls and girls don't always dance with boys.\n",
        "And there are people who are neither who are also guests at the party.  You compile a list of neithers.  \n",
        "\n",
        "Using the `boys` and `girls` lists from the last problem and the `neither` list below,\n",
        "write another list comprehension that finds **all** the possible dance partners, that is\n",
        "every pair of guests at the party, regardless of whether they are boys or girls or neither.\n",
        "But remember: people can't dance with themselves (at least not for the dances that will\n",
        "played at this party).\n",
        "\n",
        "If your final list has 169 members, people are dancing with themselves.\n",
        "\n",
        "If your final list has 156 members, it's because you have both ('Huey', 'Fred') and ('Fred', 'Huey') as possible dance partners. This is a bug.  They are just one happy couple.\n",
        "One way to fix this is do a set comprehension but then the final set you collect can't\n",
        "just be a set of two-member tuples or you'll have 156 of them.\n",
        "\n",
        "The correct answer has 78 dance couples."
      ]
    },
    {
      "cell_type": "code",
      "execution_count": 34,
      "metadata": {
        "colab": {
          "base_uri": "https://localhost:8080/"
        },
        "id": "Qs7nc7DE0f6x",
        "outputId": "ee85c691-b540-4c57-b4c7-abc13222e007"
      },
      "outputs": [
        {
          "output_type": "stream",
          "name": "stdout",
          "text": [
            "['Lee', 'Sam', 'Kim']\n",
            "3\n"
          ]
        }
      ],
      "source": [
        "neither = 'Lee Sam Kim'.split()\n",
        "print(neither)\n",
        "print(len(neither))"
      ]
    },
    {
      "cell_type": "code",
      "source": [
        "boys = 'Huey Fred Jason Ed Albert Louie'.split()\n",
        "girls = 'Susan Paula Barbara Felicia'.split()\n",
        "neithers = ['Alex', 'Taylor', 'Jordan', 'Casey']\n",
        "all = boys + girls + neithers\n",
        "unique = [(guest1, guest2) for i, guest1 in enumerate(all) for guest2 in all[i+1:]]\n",
        "print(unique)\n",
        "print(len(unique))"
      ],
      "metadata": {
        "colab": {
          "base_uri": "https://localhost:8080/"
        },
        "id": "pMDodn004FyH",
        "outputId": "b646dcf4-f6ef-464a-ec60-b5418ee14d78"
      },
      "execution_count": 36,
      "outputs": [
        {
          "output_type": "stream",
          "name": "stdout",
          "text": [
            "[('Huey', 'Fred'), ('Huey', 'Jason'), ('Huey', 'Ed'), ('Huey', 'Albert'), ('Huey', 'Louie'), ('Huey', 'Susan'), ('Huey', 'Paula'), ('Huey', 'Barbara'), ('Huey', 'Felicia'), ('Huey', 'Alex'), ('Huey', 'Taylor'), ('Huey', 'Jordan'), ('Huey', 'Casey'), ('Fred', 'Jason'), ('Fred', 'Ed'), ('Fred', 'Albert'), ('Fred', 'Louie'), ('Fred', 'Susan'), ('Fred', 'Paula'), ('Fred', 'Barbara'), ('Fred', 'Felicia'), ('Fred', 'Alex'), ('Fred', 'Taylor'), ('Fred', 'Jordan'), ('Fred', 'Casey'), ('Jason', 'Ed'), ('Jason', 'Albert'), ('Jason', 'Louie'), ('Jason', 'Susan'), ('Jason', 'Paula'), ('Jason', 'Barbara'), ('Jason', 'Felicia'), ('Jason', 'Alex'), ('Jason', 'Taylor'), ('Jason', 'Jordan'), ('Jason', 'Casey'), ('Ed', 'Albert'), ('Ed', 'Louie'), ('Ed', 'Susan'), ('Ed', 'Paula'), ('Ed', 'Barbara'), ('Ed', 'Felicia'), ('Ed', 'Alex'), ('Ed', 'Taylor'), ('Ed', 'Jordan'), ('Ed', 'Casey'), ('Albert', 'Louie'), ('Albert', 'Susan'), ('Albert', 'Paula'), ('Albert', 'Barbara'), ('Albert', 'Felicia'), ('Albert', 'Alex'), ('Albert', 'Taylor'), ('Albert', 'Jordan'), ('Albert', 'Casey'), ('Louie', 'Susan'), ('Louie', 'Paula'), ('Louie', 'Barbara'), ('Louie', 'Felicia'), ('Louie', 'Alex'), ('Louie', 'Taylor'), ('Louie', 'Jordan'), ('Louie', 'Casey'), ('Susan', 'Paula'), ('Susan', 'Barbara'), ('Susan', 'Felicia'), ('Susan', 'Alex'), ('Susan', 'Taylor'), ('Susan', 'Jordan'), ('Susan', 'Casey'), ('Paula', 'Barbara'), ('Paula', 'Felicia'), ('Paula', 'Alex'), ('Paula', 'Taylor'), ('Paula', 'Jordan'), ('Paula', 'Casey'), ('Barbara', 'Felicia'), ('Barbara', 'Alex'), ('Barbara', 'Taylor'), ('Barbara', 'Jordan'), ('Barbara', 'Casey'), ('Felicia', 'Alex'), ('Felicia', 'Taylor'), ('Felicia', 'Jordan'), ('Felicia', 'Casey'), ('Alex', 'Taylor'), ('Alex', 'Jordan'), ('Alex', 'Casey'), ('Taylor', 'Jordan'), ('Taylor', 'Casey'), ('Jordan', 'Casey')]\n",
            "91\n"
          ]
        }
      ]
    },
    {
      "cell_type": "markdown",
      "metadata": {
        "id": "kk10sh6k0f6x"
      },
      "source": [
        "## Exercise 10"
      ]
    },
    {
      "cell_type": "markdown",
      "metadata": {
        "id": "ERWOoG_o0f6x"
      },
      "source": [
        "Write a function that converts temperatures (as\n",
        "numbers) from Fahrenheit to Celsius scale. The temperature should be\n",
        "optional and its default value should be 32.  Here are some examples showing\n",
        "how you **call** the `fahrenheit-to_celsius` function and what it returns:\n",
        "\n",
        "```\n",
        "    In [ ]:  fahrenheit_to_celsius(212)\n",
        "    Out [ ]: 100\n",
        "    In [ ]: fahrenheit_to_celsius(-40)\n",
        "    Out [ ]: -40.0\n",
        "    In [ ]:  fahrenheit_to_celsius(32)\n",
        "    Out [ ]: 0\n",
        "    In [ ]:  fahrenheit_to_celsius()\n",
        "    Out [ ]: 0    \n",
        "```\n",
        "\n",
        "Please include a cell printing out your validation tests to show you have checked your work (which of course you **always** do).   \n",
        "To create new cells to demonstrate all the examples, you hold down the `[Control]` key while pressing `M` and then typing `b` (for \"below\").\n"
      ]
    },
    {
      "cell_type": "code",
      "execution_count": 39,
      "metadata": {
        "id": "gCxckBQk0f6y"
      },
      "outputs": [],
      "source": [
        "def fahrenheit_to_celsius(f=32):\n",
        "    pass\n",
        "    return (f - 32) * 5 / 9"
      ]
    },
    {
      "cell_type": "code",
      "execution_count": 40,
      "metadata": {
        "colab": {
          "base_uri": "https://localhost:8080/"
        },
        "id": "4tVPd92h0f6y",
        "outputId": "6b7265cf-b6ef-4163-972f-fb76908158a5"
      },
      "outputs": [
        {
          "output_type": "stream",
          "name": "stdout",
          "text": [
            "100.0\n",
            "-40.0\n",
            "0.0\n",
            "0.0\n"
          ]
        }
      ],
      "source": [
        "print(fahrenheit_to_celsius(212))\n",
        "#100\n",
        "print(fahrenheit_to_celsius(-40))\n",
        "#-40\n",
        "print(fahrenheit_to_celsius(32))\n",
        "#0\n",
        "print(fahrenheit_to_celsius())\n",
        "#0"
      ]
    },
    {
      "cell_type": "markdown",
      "metadata": {
        "id": "MiZ3n4gG0f6y"
      },
      "source": [
        "### Comment"
      ]
    },
    {
      "cell_type": "markdown",
      "metadata": {
        "id": "LG5o0-hQ0f6y"
      },
      "source": [
        "A frequent incorrect response  was to omit making the argument optional,\n",
        "which would have made the final test fail."
      ]
    },
    {
      "cell_type": "code",
      "execution_count": 43,
      "metadata": {
        "id": "EV1xgaJo0f6y"
      },
      "outputs": [],
      "source": [
        "def fahrenheit_to_celsius_buggy(f=32):\n",
        "    return (f-32)*(5/9)"
      ]
    },
    {
      "cell_type": "code",
      "execution_count": 44,
      "metadata": {
        "colab": {
          "base_uri": "https://localhost:8080/"
        },
        "id": "nJunwmmj0f6y",
        "outputId": "6fbf686e-5ecb-4180-c442-e31cfbcfe969"
      },
      "outputs": [
        {
          "output_type": "stream",
          "name": "stdout",
          "text": [
            "0.0\n"
          ]
        }
      ],
      "source": [
        "print(fahrenheit_to_celsius_buggy())\n",
        "#0"
      ]
    },
    {
      "cell_type": "markdown",
      "metadata": {
        "id": "O5YA4yOs0f6z"
      },
      "source": [
        "## Exercise 11"
      ]
    },
    {
      "cell_type": "markdown",
      "metadata": {
        "id": "pZtUygGQ0f6z"
      },
      "source": [
        "Write a function that can compute the difference between two temperatures.  Assume the\n",
        "input temperatures are Fahrenheit and the output temperatures are Celsius. You should take the differences in Celsus, as shown in the examples below."
      ]
    },
    {
      "cell_type": "markdown",
      "metadata": {
        "id": "zFro-yU20f6z"
      },
      "source": [
        "#### Many people ignored this instruction\n",
        "\n",
        "Your\n",
        "definition should **call** the `fahrenheit_to_celsius`  function you defined in the previous problem, so **don't** just copy and paste the code from thefunction body.  "
      ]
    },
    {
      "cell_type": "markdown",
      "metadata": {
        "id": "TmMBvg5C0f6z"
      },
      "source": [
        "Assume the first argument is obligatory and then the second argument is optional.  When the second argument is omitted, just return the result of converting the first argument to Celsius.\n",
        "Show that you have checked your work, using all of the following examples.\n",
        "\n",
        "Here is how the function should work:\n",
        "\n",
        "```\n",
        "    In [ ]:  fahrenheit_to_celsius_diff(212,32)\n",
        "    Out [ ]: 100\n",
        "    In [ ]: fahrenheit_to_celsius_diff(-40, 212)\n",
        "    Out [ ]: -140.0\n",
        "    In [ ]:  fahrenheit_to_celsius_diff(212)\n",
        "    Out [ ]: 100\n",
        "    In [ ]:  fahrenheit_to_celsius_diff(212, 0)\n",
        "    Out [ ]: 117.78\n",
        "\n",
        "```"
      ]
    },
    {
      "cell_type": "markdown",
      "metadata": {
        "id": "_PpezzRg0f6z"
      },
      "source": [
        "### Solution"
      ]
    },
    {
      "cell_type": "code",
      "execution_count": 45,
      "metadata": {
        "scrolled": true,
        "id": "Y2WHA-ou0f6z"
      },
      "outputs": [],
      "source": [
        "\n",
        "def fahrenheit_to_celsius_diff(f1, f2=32):\n",
        "    pass\n",
        "    # your code here\n",
        "    c1 = fahrenheit_to_celsius(f1)\n",
        "    c2 = fahrenheit_to_celsius(f2)\n",
        "    return c1 - c2"
      ]
    },
    {
      "cell_type": "code",
      "execution_count": 46,
      "metadata": {
        "colab": {
          "base_uri": "https://localhost:8080/"
        },
        "id": "N6Tx6kHy0f6z",
        "outputId": "4fe6b02f-efad-46e9-8a61-9e91732b3dce"
      },
      "outputs": [
        {
          "output_type": "stream",
          "name": "stdout",
          "text": [
            "100.0\n",
            "-140.0\n",
            "100.0\n",
            "117.77777777777777\n"
          ]
        }
      ],
      "source": [
        "print(fahrenheit_to_celsius_diff(212,32))\n",
        "#    Out [ ]: 100\n",
        "print(fahrenheit_to_celsius_diff(-40, 212))\n",
        "#    Out [ ]: -140.0\n",
        "print(fahrenheit_to_celsius_diff(212))\n",
        "#    Out [ ]: 100\n",
        "print(fahrenheit_to_celsius_diff(212, 0))\n",
        "#    Out [ ]: 117.78"
      ]
    },
    {
      "cell_type": "markdown",
      "metadata": {
        "id": "FK9h5syA0f6z"
      },
      "source": [
        "## Sudoku:  More list comprehension"
      ]
    },
    {
      "cell_type": "markdown",
      "metadata": {
        "id": "XiN0ivLc0f6z"
      },
      "source": [
        "This is the dreaded blank page problem I promised you at the beginning of the course.\n",
        "\n",
        "You are essentially being asked to write a non-trivial function from scratch.  The functions notebook tried to give you some hints, so try to read that material before doing this.  Here we present the helper code and the problem."
      ]
    },
    {
      "cell_type": "markdown",
      "metadata": {
        "id": "zuipYIDl0f6z"
      },
      "source": [
        "For this exercise, execute the code below; we will use it, but only briefly discuss how it works."
      ]
    },
    {
      "cell_type": "markdown",
      "metadata": {
        "id": "TuPm7noS0f6z"
      },
      "source": [
        "The code below is a simplified subset of the code defined in the functions_nb.  This version is slightly simpler than the code there and understanding this part of the code will help you complete this exercise.  You should make sure you understand how it works."
      ]
    },
    {
      "cell_type": "code",
      "execution_count": 47,
      "metadata": {
        "id": "2NEdBau90f6z"
      },
      "outputs": [],
      "source": [
        "def cross(A, B):\n",
        "    \"\"\"\n",
        "    Cross product of elements in sequence A and elements in sequence B.\n",
        "    When a and b are strings, we just concatenate them.\n",
        "    \"\"\"\n",
        "    return [a+b for a in A for b in B]\n",
        "\n",
        "\n",
        "digits   = '123456789'\n",
        "rows     = 'ABCDEFGHI'\n",
        "cols     = digits\n",
        "squares  = cross(rows, cols)\n",
        "unitlist = ([cross(rows, c) for c in cols] +\n",
        "            [cross(r, cols) for r in rows] +\n",
        "            [cross(rs, cs) for rs in ('ABC','DEF','GHI') for cs in ('123','456','789')])\n",
        "\n",
        "# Assign to each square s A set of sets of squares\n",
        "units = dict((s, [u for u in unitlist if s in u])\n",
        "             for s in squares)\n",
        "## Assign to each square s a set of squares, namely those that cant have the same value as s.\n",
        "peers = dict((s, set(sum(units[s],[]))-set([s]))\n",
        "             for s in squares)\n",
        "\n",
        "\n",
        "def grid_values(grid):\n",
        "    \"Convert grid into a dict of {square: char} with '0' or '.' for empties.\"\n",
        "    chars = [c for c in grid if c in digits or c in '0.']\n",
        "    assert len(chars) == 81\n",
        "    return dict(list(zip(squares, chars)))\n",
        "\n",
        "digits   = '123456789'\n",
        "rows     = 'ABCDEFGHI'\n",
        "cols     = digits\n",
        "squares  = cross(rows, cols)\n",
        "unitlist = ([cross(rows, c) for c in cols] +\n",
        "            [cross(r, cols) for r in rows] +\n",
        "            [cross(rs, cs) for rs in ('ABC','DEF','GHI') for cs in ('123','456','789')])\n",
        "\n",
        "# Assign to each square s A set of sets of squares\n",
        "units = dict((s, [u for u in unitlist if s in u])\n",
        "             for s in squares)\n",
        "## Assign to each square s a set of squares, namely those that cant have the same value as s.\n",
        "peers = dict((s, set(sum(units[s],[]))-set([s]))\n",
        "             for s in squares)\n",
        "\n",
        "##############################################################################################\n",
        "#  S o m e    D a t a    t o    P r a c t i c e     O n\n",
        "##############################################################################################\n",
        "grid1  = '003020600900305001001806400008102900700000008006708200002609500800203009005010300'\n",
        "grid1_soln = '483921657967345821251876493548132976729564138136798245372689514814253769695417382'\n",
        "grid2  = '003020600900305001001806400008102900700000008006708200002689500800203009005010300'\n",
        "# Some illegal grids (they break the rules of Sudoku)\n",
        "grid3  = '003020600900305001001806400008102900700000008006708200002609500800203089005010300'\n",
        "grid4  = '003020609900305001001806400008102900700000008006708200002609500800203009005010300'\n",
        "grid5  = '003020600900305061001806400008102900700000008006708200002609500800203009005010300'"
      ]
    },
    {
      "cell_type": "code",
      "execution_count": 48,
      "metadata": {
        "colab": {
          "base_uri": "https://localhost:8080/"
        },
        "id": "nTeSz5S90f6z",
        "outputId": "7af587b0-1797-4f78-ac25-39dda10b6826"
      },
      "outputs": [
        {
          "output_type": "execute_result",
          "data": {
            "text/plain": [
              "{'A1': '0',\n",
              " 'A2': '0',\n",
              " 'A3': '3',\n",
              " 'A4': '0',\n",
              " 'A5': '2',\n",
              " 'A6': '0',\n",
              " 'A7': '6',\n",
              " 'A8': '0',\n",
              " 'A9': '0',\n",
              " 'B1': '9',\n",
              " 'B2': '0',\n",
              " 'B3': '0',\n",
              " 'B4': '3',\n",
              " 'B5': '0',\n",
              " 'B6': '5',\n",
              " 'B7': '0',\n",
              " 'B8': '0',\n",
              " 'B9': '1',\n",
              " 'C1': '0',\n",
              " 'C2': '0',\n",
              " 'C3': '1',\n",
              " 'C4': '8',\n",
              " 'C5': '0',\n",
              " 'C6': '6',\n",
              " 'C7': '4',\n",
              " 'C8': '0',\n",
              " 'C9': '0',\n",
              " 'D1': '0',\n",
              " 'D2': '0',\n",
              " 'D3': '8',\n",
              " 'D4': '1',\n",
              " 'D5': '0',\n",
              " 'D6': '2',\n",
              " 'D7': '9',\n",
              " 'D8': '0',\n",
              " 'D9': '0',\n",
              " 'E1': '7',\n",
              " 'E2': '0',\n",
              " 'E3': '0',\n",
              " 'E4': '0',\n",
              " 'E5': '0',\n",
              " 'E6': '0',\n",
              " 'E7': '0',\n",
              " 'E8': '0',\n",
              " 'E9': '8',\n",
              " 'F1': '0',\n",
              " 'F2': '0',\n",
              " 'F3': '6',\n",
              " 'F4': '7',\n",
              " 'F5': '0',\n",
              " 'F6': '8',\n",
              " 'F7': '2',\n",
              " 'F8': '0',\n",
              " 'F9': '0',\n",
              " 'G1': '0',\n",
              " 'G2': '0',\n",
              " 'G3': '2',\n",
              " 'G4': '6',\n",
              " 'G5': '0',\n",
              " 'G6': '9',\n",
              " 'G7': '5',\n",
              " 'G8': '0',\n",
              " 'G9': '0',\n",
              " 'H1': '8',\n",
              " 'H2': '0',\n",
              " 'H3': '0',\n",
              " 'H4': '2',\n",
              " 'H5': '0',\n",
              " 'H6': '3',\n",
              " 'H7': '0',\n",
              " 'H8': '8',\n",
              " 'H9': '9',\n",
              " 'I1': '0',\n",
              " 'I2': '0',\n",
              " 'I3': '5',\n",
              " 'I4': '0',\n",
              " 'I5': '1',\n",
              " 'I6': '0',\n",
              " 'I7': '3',\n",
              " 'I8': '0',\n",
              " 'I9': '0'}"
            ]
          },
          "metadata": {},
          "execution_count": 48
        }
      ],
      "source": [
        "grid_values(grid3)"
      ]
    },
    {
      "cell_type": "code",
      "execution_count": 49,
      "metadata": {
        "colab": {
          "base_uri": "https://localhost:8080/"
        },
        "id": "2FBrMyL20f6z",
        "outputId": "5aa0c806-5a29-4a1f-bd7a-795ad9e85134"
      },
      "outputs": [
        {
          "output_type": "execute_result",
          "data": {
            "text/plain": [
              "False"
            ]
          },
          "metadata": {},
          "execution_count": 49
        }
      ],
      "source": [
        "grid3==grid2"
      ]
    },
    {
      "cell_type": "code",
      "execution_count": 50,
      "metadata": {
        "colab": {
          "base_uri": "https://localhost:8080/"
        },
        "id": "NsG2PF0X0f60",
        "outputId": "98a01e8c-fbb4-4861-f47d-b15ea399720b"
      },
      "outputs": [
        {
          "output_type": "execute_result",
          "data": {
            "text/plain": [
              "False"
            ]
          },
          "metadata": {},
          "execution_count": 50
        }
      ],
      "source": [
        "grid2==grid3"
      ]
    },
    {
      "cell_type": "code",
      "execution_count": 52,
      "metadata": {
        "colab": {
          "base_uri": "https://localhost:8080/"
        },
        "id": "rur1fKlh0f60",
        "outputId": "ef95788f-fcd4-4a34-d15b-cf4c629ddfc7"
      },
      "outputs": [
        {
          "output_type": "execute_result",
          "data": {
            "text/plain": [
              "False"
            ]
          },
          "metadata": {},
          "execution_count": 52
        }
      ],
      "source": [
        "grid3==grid4"
      ]
    },
    {
      "cell_type": "code",
      "execution_count": 53,
      "metadata": {
        "colab": {
          "base_uri": "https://localhost:8080/"
        },
        "id": "jzjdom-90f60",
        "outputId": "78c3e02f-3129-43b7-bf41-207f0972025f"
      },
      "outputs": [
        {
          "output_type": "execute_result",
          "data": {
            "text/plain": [
              "False"
            ]
          },
          "metadata": {},
          "execution_count": 53
        }
      ],
      "source": [
        "grid3==grid5"
      ]
    },
    {
      "cell_type": "code",
      "source": [
        "def test(grid):\n",
        "    \"\"\"Check if a Sudoku grid is valid.\"\"\"\n",
        "    for square in squares:\n",
        "        for unit in units[square]:\n",
        "            values = [grid[s] for s in unit if grid[s] != '0' and grid[s] != '.']\n",
        "            if len(values) != len(set(values)):\n",
        "                print(\"Invalid!\")\n",
        "                return\n",
        "    print(\"Valid!\")"
      ],
      "metadata": {
        "id": "lvHmRgpg5szm"
      },
      "execution_count": 57,
      "outputs": []
    },
    {
      "cell_type": "markdown",
      "metadata": {
        "id": "qWyXNlXI0f60"
      },
      "source": [
        "Your assignment is to write a function that will print out `Invalid` if the grid that is\n",
        "passed in as an argument is illegal and will print out `Valid` if the grid is legal.  It should work as follows:\n",
        "\n",
        "```\n",
        "test(grid_values(grid1))\n",
        "test(grid_values(grid2))\n",
        "test(grid_values(grid3))\n",
        "test(grid_values(grid4))\n",
        "test(grid_values(grid5))\n",
        "```\n",
        "\n",
        "When you finish your code and execute the lines above, the following should print out:\n",
        "\n",
        "```\n",
        "   Valid!\n",
        "   Valid!\n",
        "   Invalid!\n",
        "   Invalid!\n",
        "   Invalid!\n",
        "```"
      ]
    },
    {
      "cell_type": "markdown",
      "metadata": {
        "id": "KuHLail60f60"
      },
      "source": [
        "Here some examples and the expected answers for testing your code.  The expected\n",
        "output is shown below the cell.\n",
        "\n",
        "You miught want to test in the cell below that so as not to lose track of what the original  expected output is."
      ]
    },
    {
      "cell_type": "code",
      "execution_count": 56,
      "metadata": {
        "colab": {
          "base_uri": "https://localhost:8080/"
        },
        "id": "WCZfyLuO0f60",
        "outputId": "b80f147e-eb5b-494c-ae2b-5cf50e238531"
      },
      "outputs": [
        {
          "output_type": "stream",
          "name": "stdout",
          "text": [
            "Valid!\n",
            "Valid!\n",
            "Invalid!\n",
            "Invalid!\n",
            "Invalid!\n"
          ]
        }
      ],
      "source": [
        "\n",
        "pdict1 = grid_values(grid1)  # Valid\n",
        "pdict2 = grid_values(grid2)  # Valid\n",
        "pdict3 = grid_values(grid3)  # Invalid\n",
        "pdict4 = grid_values(grid4)  # Invalid\n",
        "pdict5 = grid_values(grid5)  # Invalid\n",
        "test(pdict1)\n",
        "test(pdict2)\n",
        "test(pdict3)\n",
        "test(pdict4)\n",
        "test(pdict5)"
      ]
    },
    {
      "cell_type": "code",
      "execution_count": null,
      "metadata": {
        "id": "FfZy8AYC0f60"
      },
      "outputs": [],
      "source": []
    }
  ],
  "metadata": {
    "kernelspec": {
      "display_name": "Python 3 (ipykernel)",
      "language": "python",
      "name": "python3"
    },
    "language_info": {
      "codemirror_mode": {
        "name": "ipython",
        "version": 3
      },
      "file_extension": ".py",
      "mimetype": "text/x-python",
      "name": "python",
      "nbconvert_exporter": "python",
      "pygments_lexer": "ipython3",
      "version": "3.12.5"
    },
    "toc": {
      "base_numbering": 1,
      "nav_menu": {
        "height": "310px",
        "width": "252px"
      },
      "number_sections": true,
      "sideBar": true,
      "skip_h1_title": false,
      "title_cell": "Table of Contents",
      "title_sidebar": "Contents",
      "toc_cell": false,
      "toc_position": {},
      "toc_section_display": "block",
      "toc_window_display": false
    },
    "colab": {
      "provenance": []
    }
  },
  "nbformat": 4,
  "nbformat_minor": 0
}