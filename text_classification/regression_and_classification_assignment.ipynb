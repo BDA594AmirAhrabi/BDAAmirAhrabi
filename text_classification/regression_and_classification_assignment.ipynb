{
  "cells": [
    {
      "cell_type": "markdown",
      "metadata": {
        "id": "-nP_MW5y0nGv"
      },
      "source": [
        "# Regression and Classification Assignment\n",
        "\n",
        "This notebook uses the data discussed in regression_and_classification notebook.   You may want to review that if you\n",
        "have trouble with the assignment."
      ]
    },
    {
      "cell_type": "markdown",
      "metadata": {
        "id": "1ip2ABMq0nGy"
      },
      "source": [
        "## 1. The data"
      ]
    },
    {
      "cell_type": "markdown",
      "metadata": {
        "id": "gUbF7VxY0nGy"
      },
      "source": [
        "First we do some imports and load the data from the `sklearn` module."
      ]
    },
    {
      "cell_type": "code",
      "execution_count": 1,
      "metadata": {
        "id": "vdnnkl8q0nGy"
      },
      "outputs": [],
      "source": [
        "from sklearn.datasets import load_iris\n",
        "from sklearn.metrics import accuracy_score,precision_score, recall_score\n",
        "from sklearn import linear_model\n",
        "import numpy as np\n",
        "\n",
        "\n",
        "data = load_iris()\n",
        "features = data['data']\n",
        "feature_names = data['feature_names']\n",
        "target = data['target']"
      ]
    },
    {
      "cell_type": "markdown",
      "metadata": {
        "id": "Jt7HSbyY0nGz"
      },
      "source": [
        "## 2.  The questions"
      ]
    },
    {
      "cell_type": "markdown",
      "metadata": {
        "id": "rMWTQuYa0nGz"
      },
      "source": [
        "**Q1**\n",
        "\n",
        "Don't take my word for it that subsets of the 4 Iris features always produce a worse classifier.\n",
        "Try it out.\n",
        "\n",
        "Change the selector array in the next cell and execute the code\n",
        "in the cell to try out your own favorite subsets\n",
        "of features.  No subset of 2 or even 3 features performs as well as using all 4.\n",
        "\n",
        "For example, using this selector\n",
        "```\n",
        "selector = np.array([True,True,False,True])\n",
        "```\n",
        "\n",
        "leaves out just  the third feature.  Here's your challenge: Find the best 2-feature\n",
        "system (it performs almost as well as any 3-feature system), and the best\n",
        "3-feature system.  Hint for the 2-feature problem, if you want to get there more\n",
        "quickly.  Look at our plots of two-feature systems in the \"Plotting 2D Projections of the data\"\n",
        "section of the regression_and_classification.ipynb notebook (Section 3).  Which one **looks**\n",
        "like it gives the best separation?"
      ]
    },
    {
      "cell_type": "code",
      "execution_count": 2,
      "metadata": {
        "colab": {
          "base_uri": "https://localhost:8080/"
        },
        "id": "FgWn2oTW0nGz",
        "outputId": "e5240753-2157-4bc9-ccad-8aa8359ad193"
      },
      "outputs": [
        {
          "output_type": "stream",
          "name": "stderr",
          "text": [
            "/usr/local/lib/python3.10/dist-packages/sklearn/linear_model/_logistic.py:1247: FutureWarning: 'multi_class' was deprecated in version 1.5 and will be removed in 1.7. From then on, it will always use 'multinomial'. Leave it to its default value to avoid this warning.\n",
            "  warnings.warn(\n"
          ]
        },
        {
          "output_type": "execute_result",
          "data": {
            "text/plain": [
              "0.8333333333333334"
            ]
          },
          "metadata": {},
          "execution_count": 2
        }
      ],
      "source": [
        "#Use selected features\n",
        "selector = np.array([True,True,False,False])\n",
        "X = features[:,selector]\n",
        "#X = features\n",
        "Y = target\n",
        "logreg = linear_model.LogisticRegression(C=1e5, solver='lbfgs',multi_class='auto')\n",
        "logreg.fit(X, Y)\n",
        "\n",
        "#Tesing on training set.  Not usually done.\n",
        "predicted = logreg.predict(X)\n",
        "accuracy_score(Y,predicted)"
      ]
    },
    {
      "cell_type": "markdown",
      "metadata": {
        "id": "dllKzUF20nG0"
      },
      "source": [
        "To give a clue as to how to code up a comparison of different classification\n",
        "models,  consider the following code, which uses 4 variant models\n",
        "and evaluates each model using the Accuracy metric.\n",
        "\n",
        "The SVC classifier with the RBF kernel is the winner, but not\n",
        "by much."
      ]
    },
    {
      "cell_type": "code",
      "execution_count": 3,
      "metadata": {
        "colab": {
          "base_uri": "https://localhost:8080/"
        },
        "id": "LTL8O8360nG0",
        "outputId": "24cef493-0f6e-4a68-a552-179218fd9b7c"
      },
      "outputs": [
        {
          "output_type": "execute_result",
          "data": {
            "text/plain": [
              "[0.82, 0.8, 0.8266666666666667, 0.8133333333333334]"
            ]
          },
          "metadata": {},
          "execution_count": 3
        }
      ],
      "source": [
        "from sklearn import svm, datasets\n",
        "\n",
        "#An SVM parameter, some others below.\n",
        "C=1.0\n",
        "\n",
        "# Cook up a tuple of models to test (These are the models from the last\n",
        "# plot in the simple regression NB)\n",
        "\n",
        "models = (svm.SVC(kernel='linear', C=C),\n",
        "          svm.LinearSVC(C=C, max_iter=10000),\n",
        "          svm.SVC(kernel='rbf', gamma=0.7, C=C),\n",
        "          svm.SVC(kernel='poly', degree=3, gamma='auto', C=C))\n",
        "\n",
        "# train them Notice this is not a list comprehension but looks like one.\n",
        "models = (clf.fit(X, Y) for clf in models)\n",
        "\n",
        "#Testing on training set.  Not usually done.\n",
        "predicted = [model.predict(X) for model in models]\n",
        "accuracy = [accuracy_score(Y,prediction) for prediction in predicted]\n",
        "accuracy"
      ]
    },
    {
      "cell_type": "markdown",
      "metadata": {
        "id": "5DeEzAS40nG0"
      },
      "source": [
        "One final point, this is balanced data, so it's not unreasonable to\n",
        "use accuracy to compare the 6 models, as in the cell above,\n",
        "but be sure to compare the accuracy over 10 different train/test splits as we did\n",
        "in Section 6 of the regression_and_classification notebook.  That means each of the 6 classifiers you're testing will generate 10 accuracy scores.  In order to declare a final winner, you should\n",
        "average the 10 accuracy scores.  The winner will be the classifier that achieves the highest average accuracy\n",
        "over the 10 test runs.\n"
      ]
    },
    {
      "cell_type": "markdown",
      "metadata": {
        "id": "vhGKcTT40nG0"
      },
      "source": [
        "**Q2**\n",
        "\n",
        "In the regression_and_classification notebook,\n",
        "we implemented a function called `is_red` that is supposed to distinguish\n",
        "class 0 from classes 1 and 2.  Here is the definition and an example of using it\n",
        "on a row of the Iris dataset."
      ]
    },
    {
      "cell_type": "code",
      "execution_count": 4,
      "metadata": {
        "colab": {
          "base_uri": "https://localhost:8080/"
        },
        "id": "48L-BGSY0nG0",
        "outputId": "80aac6ef-e517-41d2-c9af-ce83ef8e9a2a"
      },
      "outputs": [
        {
          "output_type": "stream",
          "name": "stdout",
          "text": [
            "P is red: False\n"
          ]
        }
      ],
      "source": [
        "def is_red (P):\n",
        "    \"\"\"\n",
        "    P is a data point, all 4 attributes.\n",
        "\n",
        "    Return True if P is in positive class.\n",
        "    \"\"\"\n",
        "    return (P[2] - .9*P[0] + 2) < 0\n",
        "\n",
        "P = features[-90]\n",
        "print('P is red: {0}'.format(is_red(P)))"
      ]
    },
    {
      "cell_type": "markdown",
      "metadata": {
        "id": "oZD_52u30nG0"
      },
      "source": [
        "We call such a function a model (a model of `redness` in this case).\n",
        "\n",
        "Consider a different model.  A model of non-redness. This model\n",
        "has a different positive class (non red instead of red).  We illustrate by applying to our\n",
        "model to example point P, which is not red:"
      ]
    },
    {
      "cell_type": "code",
      "execution_count": 5,
      "metadata": {
        "colab": {
          "base_uri": "https://localhost:8080/"
        },
        "id": "Lci6kNX20nG1",
        "outputId": "2d8fe438-ac92-4993-bec5-85290f8b3325"
      },
      "outputs": [
        {
          "output_type": "stream",
          "name": "stdout",
          "text": [
            "P is non red: True\n"
          ]
        }
      ],
      "source": [
        "def is_non_red (P):\n",
        "    \"\"\"\n",
        "    P is a data point, all 4 attributes.\n",
        "\n",
        "    Return True if P is in positive class.\n",
        "    \"\"\"\n",
        "    return (P[2] - .9*P[0] + 2) > 0\n",
        "\n",
        "P = features[-90]\n",
        "print('P is non red: {0}'.format(is_non_red(P)))"
      ]
    },
    {
      "cell_type": "markdown",
      "metadata": {
        "id": "ESTPS7Kw0nG1"
      },
      "source": [
        "Write some code to evaluate this model's accuracy\n",
        "in predicting non-redness.  Before calling the `accuracy_score` function,\n",
        "you will have to compute `predicted` using `is_non_red` to give you an array of predictions\n",
        "\n",
        "\n",
        "To create a prediction array using `is_non_red`, apply it to every row\n",
        "of `features`:\n",
        "\n",
        "```\n",
        "np.apply_along_axis(is_non_red, axis=1, arr= features)\n",
        "```\n",
        "\n",
        "You will also have to evaluate accuracy against a different standard.\n",
        "You can't evaluate against the class array `target` defined above\n",
        "because that has three classes and `is_non_red` essentially works with two.\n",
        "You have to start by creating a different\n",
        "class array that only has two classes, matching the kind of results `is_non_red` produces.\n",
        "The red class is 0, so you want `True` for every class 1 or 2 iris, and\n",
        "`False` for every class 0 iris. For this, use a Boolean mask on `target`.\n",
        "\n",
        "For this problem, you do not have to different train/test splits."
      ]
    },
    {
      "cell_type": "code",
      "execution_count": 11,
      "metadata": {
        "colab": {
          "base_uri": "https://localhost:8080/"
        },
        "id": "VyXOj4wp0nG1",
        "outputId": "89284a5a-ee6f-4236-bccc-d1b48f910e83"
      },
      "outputs": [
        {
          "output_type": "execute_result",
          "data": {
            "text/plain": [
              "array([False, False, False, False, False, False, False, False, False,\n",
              "       False, False, False, False, False, False, False, False, False,\n",
              "       False, False, False, False, False, False, False, False, False,\n",
              "       False, False, False, False, False, False, False, False, False,\n",
              "       False, False, False, False, False, False, False, False, False,\n",
              "       False, False, False, False, False,  True,  True,  True,  True,\n",
              "        True,  True,  True,  True,  True,  True,  True,  True,  True,\n",
              "        True,  True,  True,  True,  True,  True,  True,  True,  True,\n",
              "        True,  True,  True,  True,  True,  True,  True,  True,  True,\n",
              "        True,  True,  True,  True,  True,  True,  True,  True,  True,\n",
              "        True,  True,  True,  True,  True,  True,  True,  True,  True,\n",
              "        True,  True,  True,  True,  True,  True,  True,  True,  True,\n",
              "        True,  True,  True,  True,  True,  True,  True,  True,  True,\n",
              "        True,  True,  True,  True,  True,  True,  True,  True,  True,\n",
              "        True,  True,  True,  True,  True,  True,  True,  True,  True,\n",
              "        True,  True,  True,  True,  True,  True,  True,  True,  True,\n",
              "        True,  True,  True,  True,  True,  True])"
            ]
          },
          "metadata": {},
          "execution_count": 11
        }
      ],
      "source": [
        "np.apply_along_axis(is_non_red, axis=1, arr= features)"
      ]
    },
    {
      "cell_type": "markdown",
      "metadata": {
        "id": "ec8-MoTj0nG1"
      },
      "source": [
        "**Q3  Visualization**\n",
        "\n",
        "Using the `rock vs. mines` data set loaded in the next cell, draw a scatterplot of the points like the ones we did in Section 2 and 3 of the regression_and_classification notebook (R&C NB) for the iris data.\n",
        "You will find the code in Section 3 of the R&C NB will require the least modification.\n",
        "\n",
        "This data set tries to distinguish two classes, rocks and mines, based on sonar readings.\n",
        "As the loading code indicates, this data has 60 features, which is a lot, so you should\n",
        "just pick one pair of features out and plot them.  Crucially,\n",
        "you **don't** need to plot all pairs (there are 1770 pairs).\n",
        "\n",
        "When modifying the code to draw the picture, bear in mind you really only need to\n",
        "scatter the points.  You are not being asked to draw a separation line,\n",
        "and you don't need to draw the point P being depicted in Sections 2 and 3,\n",
        "because it doesn't appear in this data.\n",
        "\n",
        "You should try to give the points belonging to the two classes different colors\n",
        "and shapes, as was done in R&C NB."
      ]
    },
    {
      "cell_type": "code",
      "execution_count": 12,
      "metadata": {
        "scrolled": true,
        "colab": {
          "base_uri": "https://localhost:8080/",
          "height": 105
        },
        "id": "iGi7XG3c0nG1",
        "outputId": "4a5755a8-1838-4340-fe23-349e636fbc2c"
      },
      "outputs": [
        {
          "output_type": "error",
          "ename": "SyntaxError",
          "evalue": "unmatched ')' (<ipython-input-12-d218aec561c2>, line 7)",
          "traceback": [
            "\u001b[0;36m  File \u001b[0;32m\"<ipython-input-12-d218aec561c2>\"\u001b[0;36m, line \u001b[0;32m7\u001b[0m\n\u001b[0;31m    mine_df = pd.read_csv(target_url, header=None), prefix=\"V\")\u001b[0m\n\u001b[0m                                                              ^\u001b[0m\n\u001b[0;31mSyntaxError\u001b[0m\u001b[0;31m:\u001b[0m unmatched ')'\n"
          ]
        }
      ],
      "source": [
        "import pandas as pd\n",
        "\n",
        "target_url = (\"https://archive.ics.uci.edu/ml/machine-learning-\"\n",
        "\"databases/undocumented/connectionist-bench/sonar/sonar.all-data\")\n",
        "\n",
        "#read rocks mines data\n",
        "mine_df = pd.read_csv(target_url, header=None), prefix=\"V\")\n",
        "#mine_df = pd.read_csv(target_url, header=None)\n",
        "mine_features = mine_df.values\n",
        "(samp_sz, num_feats) = mine_features.shape\n",
        "print('{0} exemplars with {1} features'.format(samp_sz, num_feats))\n",
        "# The last column contains the class data.  Separate it from the others.\n",
        "target = mine_features[:, 60]\n",
        "# Everything else is a feature\n",
        "mine_features = mine_features[:, :60]\n",
        "(samp_sz, num_feats) = mine_features.shape\n",
        "\n",
        "# Find the two classes we're trying to separate.\n",
        "feat_set = list(set(target))\n",
        "print('{0} classes: {1}'.format(len(feat_set), feat_set))"
      ]
    },
    {
      "cell_type": "code",
      "execution_count": 9,
      "metadata": {
        "colab": {
          "base_uri": "https://localhost:8080/"
        },
        "id": "gVnHikoQ0nG1",
        "outputId": "9998dd45-24ee-4e6b-bda8-f219ae483c33"
      },
      "outputs": [
        {
          "output_type": "execute_result",
          "data": {
            "text/plain": [
              "[(0, 'o', 'r'), (1, 'x', 'g')]"
            ]
          },
          "metadata": {},
          "execution_count": 9
        }
      ],
      "source": [
        "markers,colors = 'ox','rg'\n",
        "list(zip(range(3),markers,colors))"
      ]
    },
    {
      "cell_type": "code",
      "execution_count": 10,
      "metadata": {
        "colab": {
          "base_uri": "https://localhost:8080/",
          "height": 139
        },
        "id": "6LpJvGCQ0nG1",
        "outputId": "e873487f-c7e6-411b-c572-36e018b00c01"
      },
      "outputs": [
        {
          "output_type": "error",
          "ename": "NameError",
          "evalue": "name 'mine_features' is not defined",
          "traceback": [
            "\u001b[0;31m---------------------------------------------------------------------------\u001b[0m",
            "\u001b[0;31mNameError\u001b[0m                                 Traceback (most recent call last)",
            "\u001b[0;32m<ipython-input-10-de508c3ea06c>\u001b[0m in \u001b[0;36m<cell line: 1>\u001b[0;34m()\u001b[0m\n\u001b[0;32m----> 1\u001b[0;31m \u001b[0mmine_features\u001b[0m\u001b[0;34m[\u001b[0m\u001b[0mtarget\u001b[0m\u001b[0;34m==\u001b[0m\u001b[0;36m0\u001b[0m\u001b[0;34m,\u001b[0m\u001b[0;36m0\u001b[0m\u001b[0;34m]\u001b[0m\u001b[0;34m\u001b[0m\u001b[0;34m\u001b[0m\u001b[0m\n\u001b[0m",
            "\u001b[0;31mNameError\u001b[0m: name 'mine_features' is not defined"
          ]
        }
      ],
      "source": [
        "mine_features[target==0,0]"
      ]
    },
    {
      "cell_type": "code",
      "execution_count": 13,
      "metadata": {
        "colab": {
          "base_uri": "https://localhost:8080/"
        },
        "id": "dnUYULuV0nG1",
        "outputId": "e9853f72-51a4-49e8-c643-af09044d7ebb"
      },
      "outputs": [
        {
          "output_type": "execute_result",
          "data": {
            "text/plain": [
              "[0, 1, 2]"
            ]
          },
          "metadata": {},
          "execution_count": 13
        }
      ],
      "source": [
        "list(range(3))"
      ]
    },
    {
      "cell_type": "markdown",
      "metadata": {
        "id": "on5m0xAH0nG1"
      },
      "source": [
        "**Q4**\n",
        "\n",
        "Combining variables: Cheap non-linearity"
      ]
    },
    {
      "cell_type": "markdown",
      "metadata": {
        "id": "PRVxrO0C0nG1"
      },
      "source": [
        "The [Heidelberg stat-center](http://www.statlab.uni-heidelberg.de/data/iris/) reports a very nice result obtained by combining\n",
        "the 2 petal features and the  2 sepal features by multiplication.  We end up with 2 **area** features, and a system that's almost as good as a 4-feature linear system,\n",
        "at the cost of a little non-linearity (the multiplication). Here's the computation,\n",
        "and the picture, both of which are very simple.  \n",
        "\n",
        "Notice what the picture is telling us:  Petal area alone\n",
        "is enough to almost perfectly perform the discrimination.  And the insight can easily be made visual."
      ]
    },
    {
      "cell_type": "code",
      "execution_count": 14,
      "metadata": {
        "colab": {
          "base_uri": "https://localhost:8080/",
          "height": 466
        },
        "id": "4rZAgeut0nG2",
        "outputId": "bff77a9a-ad45-46de-979f-e7d2e1e6b64e"
      },
      "outputs": [
        {
          "output_type": "execute_result",
          "data": {
            "text/plain": [
              "Text(0, 0.5, 'petal area')"
            ]
          },
          "metadata": {},
          "execution_count": 14
        },
        {
          "output_type": "display_data",
          "data": {
            "text/plain": [
              "<Figure size 640x480 with 1 Axes>"
            ],
            "image/png": "[encoded data removed]"
          },
          "metadata": {}
        }
      ],
      "source": [
        "from sklearn.datasets import load_iris\n",
        "from sklearn.metrics import accuracy_score,precision_score,recall_score\n",
        "import numpy as np\n",
        "from matplotlib import pyplot as plt\n",
        "\n",
        "data = load_iris()\n",
        "features = data['data']\n",
        "feature_names = data['feature_names']\n",
        "target = data['target']\n",
        "sepal_area = features[:,0] * features[:,1]\n",
        "petal_area = features[:,2] * features[:,3]\n",
        "\n",
        "for t,marker,c in zip(list(range(3)),\">ox\",\"rgb\"):\n",
        "    plt.scatter(sepal_area[target == t], petal_area[target == t], marker=marker, c=c,s=60)\n",
        "\n",
        "# Let's draw our point P with extra special attention getting large SIZE.\n",
        "p_sepal_area,p_petal_area,p_target  = sepal_area[-90],petal_area[-90],target[-90]\n",
        "marker,clr = \">ox\"[p_target], \"rgb\"[p_target]\n",
        "plt.scatter(p_sepal_area,p_petal_area,marker=marker,c=clr,s=180)\n",
        "\n",
        "# Let's draw some linear separators, horizontal lines in this case\n",
        "plt.plot(np.arange(0.,40.),np.array([1.8]*40))\n",
        "plt.plot(np.arange(0.,40.),np.array([7.4]*40))\n",
        "plt.axis('tight')\n",
        "plt.xlabel('sepal area')\n",
        "plt.ylabel('petal area')"
      ]
    },
    {
      "cell_type": "markdown",
      "metadata": {
        "id": "EdiGFLSy0nG2"
      },
      "source": [
        "**Q4: Part A**\n",
        "\n",
        "Validate what the picture is telling you by training and evaluating a `linear_model.LogisticRegression`\n",
        "classifier that uses **only** the petal area feature (the main\n",
        "dimension of separation in the picture).   Be sure to do a training/test split and\n",
        "use 20% of the data for your test, as in\n",
        "\n",
        "```python\n",
        "from sklearn.model_selection import train_test_split\n",
        "\n",
        "# Split the data into a training set and a test set (random_state=0 guarantees the same\n",
        "# split on multiple runs)\n",
        "X_train, X_test, y_train, y_test = train_test_split(X, y, test_size=.2, random_state=47)\n",
        "```\n",
        "\n",
        "For this problem, you do not have to do multiple train/test runs.\n",
        "\n",
        "You can define values for `petal_area` feature by evaluating the cell above.  Your\n",
        "answer can rely on that definition\n",
        "and therefore should be only a few lines of code.  The last few lines should print out\n",
        "precision, recall, and accuracy scores for your classifier.\n",
        "\n",
        "For submitting your discussion question answers, you will want to\n",
        "submit the few lines of code plus some evaluation results. For those,\n",
        "consider the following points.\n",
        "\n",
        "1.  When we defined precision and recall, we did so in a setting where there\n",
        "    were only two classes.  For this problem there are three classes, which\n",
        "    means you will need to choose between different interpretation of\n",
        "    precision and recall.  Use `average=None`, as in\n",
        "\n",
        "    ```python\n",
        "    metrics.precision_score(actual,predicted,average=None)\n",
        "    ```\n",
        "\n",
        "    This means you will get three different precision scores,\n",
        "    one for each species, instead of a single averaged score.\n",
        "\n",
        "2. You may also find it interesting to try out the scikit learn confusion matrix:\n",
        "\n",
        "   ```python\n",
        "   from sklearn import metrics\n",
        "   print(metrics.confusion_matrix(actual, predicted))\n",
        "   ```\n",
        "\n",
        "   For a slightly different display strategy, see the section entitled **An evaluation experiment** in the [Classification notebook.](https://colab.research.google.com/github/gawron/python-for-social-science/blob/master/text_classification/regression_and_classification.ipynb)\n",
        "   You might also want to try the variant `multilabel_confusion_matrix` appropriate for multiclass problems,\n",
        "   which returns a 3D matrix, one layer for each class, where each layer is a 2x2 (one vs all) confusion matrix\n",
        "   for its class.\n",
        "\n",
        "3.  Finally, for an informative (but not complete) report on your classifier, try\n",
        "\n",
        "    ```python\n",
        "    print(metrics.classification_report(actual, predicted, digits=3))\n",
        "    ```\n",
        "\n",
        "    which also gives support figures --- how many instances of each class were found in the data --- and F-score, a way of averaging the precision and recall scores.\n",
        "    \n",
        "    By default, `classification_report` returns a formatted string which can be printed\n",
        "    as done here. With the optional argument `output_dict=True`, it returns a dictionary,\n",
        "    which you can do more with, such as creating a pandas `DataFrame` using `pd.DataFrame.from_dict`.\n",
        "    This gives you more control over what things are displayed and how.\n",
        "    \n",
        "    An alternative way of getting at the numbers you want is\n",
        "    \n",
        "    ```python\n",
        "    (p,r,f,s) = metrics.precision_recall_fscore_support(Y,predicted,average=None)\n",
        "    ```\n",
        "    \n",
        "    Again, it would make sense to store these numbers in a DataFrame.  \n",
        "    \n",
        "Motivational note:  What we are doing in this problem is pejoratively referred to\n",
        "as **feature hacking**, but really it's another example of\n",
        "the sort of transformations of the data into a different\n",
        "space that we explored when we looked at polynomial\n",
        "models in the simple regression notebook.  What does multiplying feature values have to do with\n",
        "higher-dimensional polynomial models?  After all,\n",
        "we started with 4 features and now have only 1!  Well of course\n",
        "the petal area model is not a higher dimensional model, but it is a subset of the features of a quadratic model\n",
        "with feature interactions.  Suppose we have a 2-dimensional model:\n",
        "\n",
        "$$\n",
        "\\lbrack a, b  \\rbrack\n",
        "$$\n",
        "\n",
        "The quadratic model with feature interactions would transform this into a 6-dimensional model\n",
        "\n",
        "$$\n",
        "\\lbrack 1, a, b, ab, a^{2}, b^{2}  \\rbrack\n",
        "$$\n",
        "\n",
        "In scikit learn, the feature `ab` is called an interaction feature.\n",
        "Hence our proposed petal area model is like a quadratic model\n",
        "that uses only the interaction feature.  You can't\n",
        "quite get that using `preprocessing.PolynomialFeatures` in\n",
        "scikit learn, but you can get close.\n",
        "If you start with a 2-feature model (`a` and `b`), the minimal quadratic\n",
        "transformer in scikit learn is constructed as follows:\n",
        "\n",
        "```python\n",
        "poly = preprocessing.PolynomialFeatures(degree=2, include_bias=False, interaction_only=True)\n",
        "\n",
        "```\n",
        "\n",
        "This produces a model with 3 features:\n",
        "\n",
        "$$\n",
        "\\lbrack a, b, ab \\rbrack\n",
        "$$"
      ]
    },
    {
      "cell_type": "markdown",
      "metadata": {
        "id": "_cG6MfA-0nG2"
      },
      "source": [
        "**More challenging version of Q4 Part A**: Instead of the 1-feature petal area representation the first\n",
        "sentence of Q4 Part A describes, you are welcome to try the following slightly\n",
        "more challenging strategy in answering question Q4 Part A.\n",
        "\n",
        ">Use scikit learn's `PolynomialFeatures`\n",
        "transformer (created with the parameters above)\n",
        "to represent your training and test data\n",
        "instead of the `petal_area` representation created in the code cell for Q4.\n",
        "To get the fewest number of features, you\n",
        "would submit just the petal features (columns 3 and 4 in `features`)\n",
        "to the transformer.\n",
        "\n",
        "This will give you a 3-feature representation\n",
        "of the data. That's because petal length and petal width will be kept\n",
        "as features, but that will make little\n",
        "difference to the structure of your code.  You can do this either by\n",
        "transforming the data directly using the transformer's `.fit_transform()` and\n",
        "`.transform()` methods or by using the sort of pipeline that was demonstrated in the polynomial model\n",
        "in the simple_regression notebook. Whether you use the pipeline or\n",
        "not, you may find it helpful to include scaling\n",
        "in processing the data (as was done in the simple_regression notebook)."
      ]
    },
    {
      "cell_type": "code",
      "execution_count": 15,
      "metadata": {
        "colab": {
          "base_uri": "https://localhost:8080/"
        },
        "id": "QZiOqJTd0nG2",
        "outputId": "c5ef7e4b-5e1e-4985-b398-7f3e10388060"
      },
      "outputs": [
        {
          "output_type": "execute_result",
          "data": {
            "text/plain": [
              "['sepal length (cm)',\n",
              " 'sepal width (cm)',\n",
              " 'petal length (cm)',\n",
              " 'petal width (cm)']"
            ]
          },
          "metadata": {},
          "execution_count": 15
        }
      ],
      "source": [
        "feature_names"
      ]
    },
    {
      "cell_type": "markdown",
      "metadata": {
        "id": "jXc2oL1d0nG2"
      },
      "source": [
        "**Q4: Part B**\n",
        "\n",
        "Train and evaluate a `linear_model.LogisticRegression`\n",
        "classifier that uses **both** the petal area feature and the sepal area feature.  \n",
        "Guidelines as with the last problem, except you are asked  not to use scikit learn's `PolynomialFeatures`\n",
        "for this one.\n"
      ]
    },
    {
      "cell_type": "markdown",
      "metadata": {
        "collapsed": true,
        "id": "D2HMz1DU0nG2"
      },
      "source": [
        "**Q4 Part C**\n",
        "\n",
        "Train and evaluate a `linear_model.LogisticRegression`\n",
        "classifier that uses both  area features **as well as** the original 4 features.\n",
        "That's a 6 feature model, the 4 original features plus two\n",
        "interaction features.  Does this do better than a classifier trained on just the original 4 features?\n",
        "Guidelines as with Part A, except that you are asked noto to use scikit learn's PolynomialFeatures for this one."
      ]
    },
    {
      "cell_type": "markdown",
      "metadata": {
        "id": "8r4wQRWj0nG2"
      },
      "source": [
        "**Q4 Part D**\n",
        "\n",
        "Train and evaluate a `linear_model.LogisticRegression`\n",
        "classifier that uses a 2-feature PCA representation of the iris data,\n",
        "as was done in Section 7 of the Regression and Classification notebook.\n",
        "Does the PCA classifier do better than the 2-feature classifier\n",
        "models evaluated in Q1 of this assignment?  For\n",
        "this comparison, you should split the data into training and test\n",
        "sets 10 times and average the precision scores, as you\n",
        "did for Q1.\n",
        "\n",
        "The other question that arises is how this\n",
        "2-feature model compares with the 2-feature model\n",
        "you evaluated in Q4 Part B.  That evaluation\n",
        "scheme was slightly different, however,\n",
        "since we didn't do multiple train/test splits.\n",
        "To provide a fair comparison, redo your evaluation\n",
        "of the Part B system using 10 train/test\n",
        "splits and computing the average accuracy.\n"
      ]
    },
    {
      "cell_type": "markdown",
      "metadata": {
        "id": "tRJL5aBN0nG2"
      },
      "source": [
        "**Q5**\n",
        "\n",
        "Another day, another model.  This question is completely optional. No\n",
        "extra credit for doing it, just glory.\n",
        "\n",
        "We looked at one nonlinear model with regression (K Nearest Neighbor)\n",
        "and we'll look at one nonlinear model with classification.\n",
        "This one is called a **Gaussian Process Classifier**.\n",
        "This is a probabilistic model that tries to fit a Gaussian\n",
        "mixture, so in our setting, the trained classifier\n",
        "will assign 3 probabilities to each row in the data,\n",
        "one for each class.  "
      ]
    },
    {
      "cell_type": "code",
      "execution_count": null,
      "metadata": {
        "id": "W_O5BEAl0nG2",
        "outputId": "74b3fdd7-e6c0-4876-b176-86fc841665e4"
      },
      "outputs": [
        {
          "name": "stdout",
          "output_type": "stream",
          "text": [
            "0.9866666666666667\n"
          ]
        }
      ],
      "source": [
        "from sklearn.datasets import load_iris\n",
        "from sklearn.gaussian_process import GaussianProcessClassifier\n",
        "from sklearn.gaussian_process.kernels import RBF\n",
        "newX, y = load_iris(return_X_y=True)\n",
        "\n",
        "kernel = 1.0 * RBF(1.0)\n",
        "gpc = GaussianProcessClassifier(kernel=kernel,\n",
        "                                random_state=0).fit(newX, y)\n",
        "print(gpc.score(newX, y))"
      ]
    },
    {
      "cell_type": "markdown",
      "metadata": {
        "id": "_Yh9xYWL0nG3"
      },
      "source": [
        "As the code shows, this classifier needs a **kernel**.  For\n",
        "a discussion of kernels and classifiers, see [The SVM Classifier notebook.](https://colab.research.google.com/github/gawron/python-for-social-science/blob/master/text_classification/linear_classifier_svm.ipynb)\n",
        "For more discussion of Gaussian Process Classifiers and a visualization of what they do\n",
        "on the iris data, see [The Plot Gaussian Process notebook.](https://colab.research.google.com/github/gawron/python-for-social-science/blob/master/text_classification/plot_gaussian_process_iris.ipynb)"
      ]
    },
    {
      "cell_type": "markdown",
      "metadata": {
        "id": "WBQr0of20nG3"
      },
      "source": [
        "To demonstrate the idea of assigning three probabilities to each row, let's pass the first two rows\n",
        "of the training data to the `predict_proba` method of the trained classifier (only probabilistic classifiers have a `predict_proba` method):"
      ]
    },
    {
      "cell_type": "code",
      "execution_count": null,
      "metadata": {
        "id": "dPTLx2Bh0nG3",
        "outputId": "aa22b74e-59a2-4c76-d9b4-5f8623f3dcee"
      },
      "outputs": [
        {
          "data": {
            "text/plain": [
              "array([[0.83548752, 0.03228706, 0.13222543],\n",
              "       [0.79064206, 0.06525643, 0.14410151]])"
            ]
          },
          "execution_count": 23,
          "metadata": {},
          "output_type": "execute_result"
        }
      ],
      "source": [
        "prob_array = gpc.predict_proba(newX[:2,:])\n",
        "#array([[0.8354..., 0.03228..., 0.1322...],\n",
        "#       [0.7906..., 0.0652..., 0.1441...]])\n",
        "prob_array"
      ]
    },
    {
      "cell_type": "markdown",
      "metadata": {
        "id": "AV5hyiKb0nG3"
      },
      "source": [
        "We get a 2x3 array.  Row 0 of `prob_array` represents the probabilities for the 3 classes for\n",
        "the iris represented in row 0 of the training data (`newX`).  For example the probability that\n",
        "that iris belongs to class 1  (versicolor) is around `.03`  and the probability that it belongs to\n",
        "class 2 (virginica) is around `.13`.  So the class with the greatest probability is class 0 (setosa),\n",
        "which is actually the  correct class:"
      ]
    },
    {
      "cell_type": "code",
      "execution_count": null,
      "metadata": {
        "id": "y6PwYh380nG3",
        "outputId": "24111fc3-15c3-4894-f919-6f34e8ee39b9"
      },
      "outputs": [
        {
          "name": "stdout",
          "output_type": "stream",
          "text": [
            "['setosa' 'versicolor' 'virginica']\n",
            "0\n"
          ]
        }
      ],
      "source": [
        "print(data['target_names'])\n",
        "print(target[0])"
      ]
    },
    {
      "cell_type": "markdown",
      "metadata": {
        "id": "ZHq-Yw7C0nG3"
      },
      "source": [
        "Of course the classifier also has a `.predict()` method, so we can just get an array of decisions, as with\n",
        "any scikit learn classifier:"
      ]
    },
    {
      "cell_type": "code",
      "execution_count": null,
      "metadata": {
        "id": "8XcezgXV0nG3",
        "outputId": "78525498-15da-434c-c203-f7e4ef5f647f"
      },
      "outputs": [
        {
          "data": {
            "text/plain": [
              "array([0, 0])"
            ]
          },
          "execution_count": 27,
          "metadata": {},
          "output_type": "execute_result"
        }
      ],
      "source": [
        "gpc.predict(newX[:2,:])"
      ]
    },
    {
      "cell_type": "markdown",
      "metadata": {
        "id": "1WulDBt30nG3"
      },
      "source": [
        "The default decision rule is to choose the the maximum probability in any row; if we take the max\n",
        "probabilities in each row and look at their mean, it's quite high, meaning\n",
        "the classifier is for the most part pretty confident about its selections, at least for the training data."
      ]
    },
    {
      "cell_type": "code",
      "execution_count": null,
      "metadata": {
        "id": "Usbgs2TX0nG4",
        "outputId": "a45c051e-b0ae-43c5-9a6e-e31716ec8e2e"
      },
      "outputs": [
        {
          "data": {
            "text/plain": [
              "0.7568465696129202"
            ]
          },
          "execution_count": 28,
          "metadata": {},
          "output_type": "execute_result"
        }
      ],
      "source": [
        "pc = gpc.predict_proba(newX)\n",
        "pc.max(axis=1).mean()"
      ]
    },
    {
      "cell_type": "markdown",
      "metadata": {
        "id": "Ro1yhONa0nG4"
      },
      "source": [
        "But in at least a few case it is deciding by, in effect, flipping a three-sided coin. The minimally confident training classification is:"
      ]
    },
    {
      "cell_type": "code",
      "execution_count": null,
      "metadata": {
        "id": "G_ix2A_G0nG4",
        "outputId": "23cf9dc2-084b-4493-86d3-7fa56ba09e5c"
      },
      "outputs": [
        {
          "data": {
            "text/plain": [
              "0.4096513245830137"
            ]
          },
          "execution_count": 24,
          "metadata": {},
          "output_type": "execute_result"
        }
      ],
      "source": [
        "pc.max(axis=1).min()"
      ]
    },
    {
      "cell_type": "markdown",
      "metadata": {
        "id": "_2blFb1O0nG4"
      },
      "source": [
        "This means that according to the system's own probability model, the max probability guess for this particular iris has a better than even chance of being wrong."
      ]
    },
    {
      "cell_type": "markdown",
      "metadata": {
        "id": "8uDZ3CCj0nG4"
      },
      "source": [
        "A more principled  measure of the classifier's overall fit to the training data is the log marginal likelihood,\n",
        "which is found on the trained kernel.  \n",
        "\n",
        "It is the log of a marginal probability, so higher is better. The actual formula (see the scikit learn docs) is  slightly complicated, partly because the formal definition involves integrals with no closed-form solution,\n",
        "and approximations are used, and partly because the underlying logic of the model is Bayesian, so\n",
        "there is a penalty for \"model complexity\" built into the probability (more complex models are less\n",
        "probable, a form of Occam's razor)."
      ]
    },
    {
      "cell_type": "code",
      "execution_count": null,
      "metadata": {
        "id": "fHr8GeFL0nG4",
        "outputId": "2f49e57d-b21c-4d2e-a2c9-2df4ad6d2f0e"
      },
      "outputs": [
        {
          "data": {
            "text/plain": [
              "-13.73091847787589"
            ]
          },
          "execution_count": 34,
          "metadata": {},
          "output_type": "execute_result"
        }
      ],
      "source": [
        "gpc.log_marginal_likelihood(gpc.kernel_.theta)"
      ]
    },
    {
      "cell_type": "markdown",
      "metadata": {
        "id": "c15i01EO0nG4"
      },
      "source": [
        "Converted to a probability this is quite low, but it is associated with the entire data set:"
      ]
    },
    {
      "cell_type": "code",
      "execution_count": null,
      "metadata": {
        "id": "RM3qpzQ-0nG4",
        "outputId": "5b3a6999-5ce7-4ae3-94e5-d3d857a33f19"
      },
      "outputs": [
        {
          "data": {
            "text/plain": [
              "1.0882730478969875e-06"
            ]
          },
          "execution_count": 37,
          "metadata": {},
          "output_type": "execute_result"
        }
      ],
      "source": [
        "np.exp(gpc.log_marginal_likelihood(gpc.kernel_.theta))"
      ]
    },
    {
      "cell_type": "code",
      "execution_count": null,
      "metadata": {
        "id": "m3Ik9-OL0nG4",
        "outputId": "7c941ac1-8e4f-497a-958d-5479527287ad"
      },
      "outputs": [
        {
          "data": {
            "text/plain": [
              "0.9125253103692804"
            ]
          },
          "execution_count": 46,
          "metadata": {},
          "output_type": "execute_result"
        }
      ],
      "source": [
        "# converted to a per training item prob\n",
        "np.exp(gpc.log_marginal_likelihood(gpc.kernel_.theta))**(1/len(newX))"
      ]
    },
    {
      "cell_type": "markdown",
      "metadata": {
        "id": "Zuf-ztjI0nG4"
      },
      "source": [
        "Your task in this problem is to build a classifer model using the 2-feature representation\n",
        "used in question 4b, and to decide which of two kernels is better, the one used above\n",
        "(Isotropic Area RBF) or a 2D option available for a 2-feature model:  1.0 * RBF([1.0, 1.0]).\n",
        "\n",
        "```python\n",
        "\n",
        "Isotropic Area RBF    1.0 * RBF(1.0)\n",
        "Anisotropic Area RBF  1.0 * RBF([1.0, 1.0])\n",
        "```\n",
        "\n",
        "You should evaluate using accuracy, precision, and recall (with `average=None` as with previous evaluations).\n",
        "You should also compare the log_marginal_likelihood of the two models.\n",
        "\n",
        "Warnings Warning:  You may get warnings when you try this.  They are mostly there\n",
        "to tell you the model is not optimal, and a better model might be lying in wait.  But persevere. You will still get usable results.\n",
        "\n",
        "Extra glory:  Do 10 test runs and compare the two systems for average accuracy, precision, and recall\n",
        "over those 10 runs.  Hint: store your results  in arrays. For an example of how to do this\n",
        "for accuracy have a look at the `multiple_runs(X,y,num_runs)` function defined in Section 7\n",
        "of the Regression and Classification notebook.  The way to get the mean of the numerical values in a\n",
        "1D array `a`  is `a.mean()`.  Note that precision and recall present an extra headache in this\n",
        "multiclass setting, since (unlike accuracy) they will give you three scores for each system run."
      ]
    },
    {
      "cell_type": "code",
      "execution_count": 16,
      "metadata": {
        "colab": {
          "base_uri": "https://localhost:8080/"
        },
        "id": "Rxg5u6za0nG4",
        "outputId": "65cb6d38-a9f6-4821-8efe-f57edb66a51c"
      },
      "outputs": [
        {
          "output_type": "stream",
          "name": "stdout",
          "text": [
            "Part A Results:\n",
            "Accuracy: 0.967\n",
            "Precision (per class): [1.    0.875 1.   ]\n",
            "Recall (per class): [1.         1.         0.91666667]\n",
            "Confusion Matrix:\n",
            " [[11  0  0]\n",
            " [ 0  7  0]\n",
            " [ 0  1 11]]\n",
            "\n",
            "Classification Report:\n",
            "               precision    recall  f1-score   support\n",
            "\n",
            "           0      1.000     1.000     1.000        11\n",
            "           1      0.875     1.000     0.933         7\n",
            "           2      1.000     0.917     0.957        12\n",
            "\n",
            "    accuracy                          0.967        30\n",
            "   macro avg      0.958     0.972     0.963        30\n",
            "weighted avg      0.971     0.967     0.967        30\n",
            "\n"
          ]
        }
      ],
      "source": [
        "from sklearn.linear_model import LogisticRegression\n",
        "from sklearn.model_selection import train_test_split\n",
        "from sklearn.metrics import accuracy_score, precision_score, recall_score, classification_report, confusion_matrix\n",
        "\n",
        "# Use petal area as the feature\n",
        "petal_area_feature = petal_area.reshape(-1, 1)  # Reshape to fit scikit-learn input requirements\n",
        "\n",
        "# Train-test split\n",
        "X_train, X_test, y_train, y_test = train_test_split(petal_area_feature, target, test_size=0.2, random_state=47)\n",
        "\n",
        "# Train the Logistic Regression model\n",
        "log_reg = LogisticRegression(max_iter=1000, random_state=47)\n",
        "log_reg.fit(X_train, y_train)\n",
        "\n",
        "# Predictions\n",
        "y_pred = log_reg.predict(X_test)\n",
        "\n",
        "# Evaluate metrics\n",
        "accuracy = accuracy_score(y_test, y_pred)\n",
        "precision = precision_score(y_test, y_pred, average=None)\n",
        "recall = recall_score(y_test, y_pred, average=None)\n",
        "\n",
        "# Display results\n",
        "print(\"Part A Results:\")\n",
        "print(f\"Accuracy: {accuracy:.3f}\")\n",
        "print(\"Precision (per class):\", precision)\n",
        "print(\"Recall (per class):\", recall)\n",
        "print(\"Confusion Matrix:\\n\", confusion_matrix(y_test, y_pred))\n",
        "print(\"\\nClassification Report:\\n\", classification_report(y_test, y_pred, digits=3))"
      ]
    },
    {
      "cell_type": "code",
      "source": [
        "# Combine petal area and sepal area as features\n",
        "combined_features = np.column_stack((sepal_area, petal_area))\n",
        "\n",
        "# Train-test split\n",
        "X_train, X_test, y_train, y_test = train_test_split(combined_features, target, test_size=0.2, random_state=47)\n",
        "\n",
        "# Train the Logistic Regression model\n",
        "log_reg = LogisticRegression(max_iter=1000, random_state=47)\n",
        "log_reg.fit(X_train, y_train)\n",
        "\n",
        "# Predictions\n",
        "y_pred = log_reg.predict(X_test)\n",
        "\n",
        "# Evaluate metrics\n",
        "accuracy = accuracy_score(y_test, y_pred)\n",
        "precision = precision_score(y_test, y_pred, average=None)\n",
        "recall = recall_score(y_test, y_pred, average=None)\n",
        "\n",
        "# Display results\n",
        "print(\"Part B Results:\")\n",
        "print(f\"Accuracy: {accuracy:.3f}\")\n",
        "print(\"Precision (per class):\", precision)\n",
        "print(\"Recall (per class):\", recall)\n",
        "print(\"Confusion Matrix:\\n\", confusion_matrix(y_test, y_pred))\n",
        "print(\"\\nClassification Report:\\n\", classification_report(y_test, y_pred, digits=3))"
      ],
      "metadata": {
        "id": "euSBPE6v4O77",
        "outputId": "bb833e58-089d-4034-901c-a4522b3fb7c4",
        "colab": {
          "base_uri": "https://localhost:8080/"
        }
      },
      "execution_count": 17,
      "outputs": [
        {
          "output_type": "stream",
          "name": "stdout",
          "text": [
            "Part B Results:\n",
            "Accuracy: 1.000\n",
            "Precision (per class): [1. 1. 1.]\n",
            "Recall (per class): [1. 1. 1.]\n",
            "Confusion Matrix:\n",
            " [[11  0  0]\n",
            " [ 0  7  0]\n",
            " [ 0  0 12]]\n",
            "\n",
            "Classification Report:\n",
            "               precision    recall  f1-score   support\n",
            "\n",
            "           0      1.000     1.000     1.000        11\n",
            "           1      1.000     1.000     1.000         7\n",
            "           2      1.000     1.000     1.000        12\n",
            "\n",
            "    accuracy                          1.000        30\n",
            "   macro avg      1.000     1.000     1.000        30\n",
            "weighted avg      1.000     1.000     1.000        30\n",
            "\n"
          ]
        }
      ]
    },
    {
      "cell_type": "code",
      "source": [
        "# Combine original features with area features\n",
        "six_features = np.column_stack((features, sepal_area, petal_area))\n",
        "\n",
        "# Train-test split\n",
        "X_train, X_test, y_train, y_test = train_test_split(six_features, target, test_size=0.2, random_state=47)\n",
        "\n",
        "# Train the Logistic Regression model\n",
        "log_reg = LogisticRegression(max_iter=1000, random_state=47)\n",
        "log_reg.fit(X_train, y_train)\n",
        "\n",
        "# Predictions\n",
        "y_pred = log_reg.predict(X_test)\n",
        "\n",
        "# Evaluate metrics\n",
        "accuracy = accuracy_score(y_test, y_pred)\n",
        "precision = precision_score(y_test, y_pred, average=None)\n",
        "recall = recall_score(y_test, y_pred, average=None)\n",
        "\n",
        "# Display results\n",
        "print(\"Part C Results:\")\n",
        "print(f\"Accuracy: {accuracy:.3f}\")\n",
        "print(\"Precision (per class):\", precision)\n",
        "print(\"Recall (per class):\", recall)\n",
        "print(\"Confusion Matrix:\\n\", confusion_matrix(y_test, y_pred))\n",
        "print(\"\\nClassification Report:\\n\", classification_report(y_test, y_pred, digits=3))"
      ],
      "metadata": {
        "id": "VSiPEbj_4QuE",
        "outputId": "404b9faf-5fe9-4803-b756-9452b87ef11c",
        "colab": {
          "base_uri": "https://localhost:8080/"
        }
      },
      "execution_count": 18,
      "outputs": [
        {
          "output_type": "stream",
          "name": "stdout",
          "text": [
            "Part C Results:\n",
            "Accuracy: 1.000\n",
            "Precision (per class): [1. 1. 1.]\n",
            "Recall (per class): [1. 1. 1.]\n",
            "Confusion Matrix:\n",
            " [[11  0  0]\n",
            " [ 0  7  0]\n",
            " [ 0  0 12]]\n",
            "\n",
            "Classification Report:\n",
            "               precision    recall  f1-score   support\n",
            "\n",
            "           0      1.000     1.000     1.000        11\n",
            "           1      1.000     1.000     1.000         7\n",
            "           2      1.000     1.000     1.000        12\n",
            "\n",
            "    accuracy                          1.000        30\n",
            "   macro avg      1.000     1.000     1.000        30\n",
            "weighted avg      1.000     1.000     1.000        30\n",
            "\n"
          ]
        }
      ]
    },
    {
      "cell_type": "code",
      "source": [
        "from sklearn.decomposition import PCA\n",
        "\n",
        "# Apply PCA to reduce to 2 features\n",
        "pca = PCA(n_components=2)\n",
        "pca_features = pca.fit_transform(features)\n",
        "\n",
        "# Store metrics for averaging\n",
        "accuracies = []\n",
        "precisions = []\n",
        "recalls = []\n",
        "\n",
        "# Perform 10 splits\n",
        "for _ in range(10):\n",
        "    X_train, X_test, y_train, y_test = train_test_split(pca_features, target, test_size=0.2, random_state=_)\n",
        "\n",
        "    # Train the Logistic Regression model\n",
        "    log_reg = LogisticRegression(max_iter=1000, random_state=_)\n",
        "    log_reg.fit(X_train, y_train)\n",
        "\n",
        "    # Predictions\n",
        "    y_pred = log_reg.predict(X_test)\n",
        "\n",
        "    # Collect metrics\n",
        "    accuracies.append(accuracy_score(y_test, y_pred))\n",
        "    precisions.append(precision_score(y_test, y_pred, average=None))\n",
        "    recalls.append(recall_score(y_test, y_pred, average=None))\n",
        "\n",
        "# Average metrics\n",
        "avg_accuracy = np.mean(accuracies)\n",
        "avg_precision = np.mean(np.array(precisions), axis=0)\n",
        "avg_recall = np.mean(np.array(recalls), axis=0)\n",
        "\n",
        "# Display results\n",
        "print(\"Part D Results:\")\n",
        "print(f\"Average Accuracy: {avg_accuracy:.3f}\")\n",
        "print(\"Average Precision (per class):\", avg_precision)\n",
        "print(\"Average Recall (per class):\", avg_recall)"
      ],
      "metadata": {
        "id": "rcRLWd5s4SrU",
        "outputId": "8c7567a3-d9e8-484d-ad07-820b2f079d38",
        "colab": {
          "base_uri": "https://localhost:8080/"
        }
      },
      "execution_count": 19,
      "outputs": [
        {
          "output_type": "stream",
          "name": "stdout",
          "text": [
            "Part D Results:\n",
            "Average Accuracy: 0.953\n",
            "Average Precision (per class): [1.         0.95333333 0.9099062 ]\n",
            "Average Recall (per class): [1.         0.90293901 0.95454545]\n"
          ]
        }
      ]
    },
    {
      "cell_type": "code",
      "source": [],
      "metadata": {
        "id": "EZBZ4BfB4Ucp"
      },
      "execution_count": null,
      "outputs": []
    }
  ],
  "metadata": {
    "kernelspec": {
      "display_name": "Python 3 (ipykernel)",
      "language": "python",
      "name": "python3"
    },
    "language_info": {
      "codemirror_mode": {
        "name": "ipython",
        "version": 3
      },
      "file_extension": ".py",
      "mimetype": "text/x-python",
      "name": "python",
      "nbconvert_exporter": "python",
      "pygments_lexer": "ipython3",
      "version": "3.10.6"
    },
    "toc": {
      "base_numbering": 1,
      "nav_menu": {
        "height": "171px",
        "width": "253px"
      },
      "number_sections": true,
      "sideBar": true,
      "skip_h1_title": false,
      "title_cell": "Table of Contents",
      "title_sidebar": "Contents",
      "toc_cell": false,
      "toc_position": {},
      "toc_section_display": "block",
      "toc_window_display": false
    },
    "colab": {
      "provenance": []
    }
  },
  "nbformat": 4,
  "nbformat_minor": 0
}