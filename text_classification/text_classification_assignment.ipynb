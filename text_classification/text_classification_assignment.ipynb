{
  "cells": [
    {
      "cell_type": "markdown",
      "metadata": {
        "id": "5DeYXbqK-rRW"
      },
      "source": [
        "## Classifying text"
      ]
    },
    {
      "cell_type": "code",
      "execution_count": 4,
      "metadata": {
        "id": "MejilF82-rRZ",
        "scrolled": true
      },
      "outputs": [],
      "source": [
        "import numpy as np\n",
        "import pandas as pd\n",
        "import sklearn\n",
        "from sklearn.model_selection import train_test_split\n",
        "from sklearn.model_selection import GridSearchCV as gs\n",
        "import sklearn.feature_extraction.text as text\n",
        "import sklearn.naive_bayes as nb\n",
        "import matplotlib.pyplot as plt\n",
        "from sklearn.metrics import precision_score, recall_score, accuracy_score\n",
        "%matplotlib inline"
      ]
    },
    {
      "cell_type": "markdown",
      "metadata": {
        "id": "-GBgwxp4gpVr"
      },
      "source": [
        "We turn to applying machine learning classification methods to text. There are\n",
        "no new principles at stake.  In principle, everything is the same as it was for\n",
        "learning how to classify irises.\n",
        "\n",
        "1.  We need to find labeled data; each of the exemplars in the data should be represented with a fixed set of features.  \n",
        "2. We need to split our data and training and test data.  \n",
        "3. We need to train learner on the training data and evaluate it (test it) it on the test data.\n",
        "\n",
        "The problem is that text data is not in a form  that is compatible with\n",
        "what we have learned about classifiers.  The text must be put in a suitable\n",
        "form before a linear model; can be trained on it.\n",
        "\n",
        "**Training**\n",
        "\n",
        "1.  Labeled data must be loaded (into Python).  It should be a sequence of documents T accompanied by a sequence of labels L.\n",
        "2.  Split T and L into training and test groups, yielding T1 and T2; as well as and L1 and L2.\n",
        "2.  Train or a **feature model** on the training data T1 (or in scikit learn terminology **fit** the model **to** the training data).  The feature model inputs the text sequence and outputs a **term-document** matrix suitable for training a linear classifier.  The feature model is called a **vectorizer**\n",
        "(because it turns a document into a vector, a column of numbers).\n",
        "3.  Using the trained vectorizer, transform T1 into a term document matrix M1.\n",
        "4.  Train a linear model $\\mu$ on M1 and L1.\n",
        "\n",
        "**Evaluation**\n",
        "\n",
        "1.  Transform the test data T2 into a term document matrix M2 using the vectorizer fit during step 2 of training;  in particular this means if there are words in the T2 data that were never seen during training, they are ignored in building M2.\n",
        "2.  Use $\\mu$  to classify the texts represented in M2; that is produce a set of predicted labels P2.\n",
        "3.  Compare the actual labels L2 with the predicted labels P2 using standard evaluation metrics such as precision, accuracy, and recall.\n"
      ]
    },
    {
      "cell_type": "markdown",
      "metadata": {
        "id": "qildTjvw-rRb"
      },
      "source": [
        "## Review the steps with insult detection"
      ]
    },
    {
      "cell_type": "markdown",
      "metadata": {
        "id": "28jZSTW_-rRb"
      },
      "source": [
        "We looked at the insult detection data in  the text classification notebook."
      ]
    },
    {
      "cell_type": "markdown",
      "metadata": {
        "id": "ZTy_2bOhgpVs"
      },
      "source": [
        "### Training step 1: Loading the data\n",
        "\n",
        "Let's load the CSV file."
      ]
    },
    {
      "cell_type": "code",
      "execution_count": 5,
      "metadata": {
        "id": "MtGQlB1q-rRc"
      },
      "outputs": [],
      "source": [
        "import os.path\n",
        "site = 'https://raw.githubusercontent.com/gawron/python-for-social-science/master/'\\\n",
        "'text_classification/'\n",
        "#site = 'https://gawron.sdsu.edu/python_for_ss/course_core/book_draft/_static/'\n",
        "df = pd.read_csv(os.path.join(site,\"troll.csv\"))"
      ]
    },
    {
      "cell_type": "markdown",
      "metadata": {
        "id": "M3ncLUYx-rRc"
      },
      "source": [
        "Each row is a comment  taken from a blog or online forum. There are three columns: whether the comment is insulting (1) or not (0), the date, and the comment."
      ]
    },
    {
      "cell_type": "code",
      "execution_count": 6,
      "metadata": {
        "colab": {
          "base_uri": "https://localhost:8080/",
          "height": 204
        },
        "id": "pFeNaW-m-rRd",
        "outputId": "072a0b17-2969-41a4-b5cc-69be2aee1ef3"
      },
      "outputs": [
        {
          "output_type": "execute_result",
          "data": {
            "text/plain": [
              "      Insult             Date  \\\n",
              "3942       1  20120502172717Z   \n",
              "3943       0  20120528164814Z   \n",
              "3944       0  20120620142813Z   \n",
              "3945       0  20120528205648Z   \n",
              "3946       0  20120515200734Z   \n",
              "\n",
              "                                                Comment  \n",
              "3942  \"you are both morons and that is never happening\"  \n",
              "3943  \"Many toolbars include spell check, like Yahoo...  \n",
              "3944  \"@LambeauOrWrigley\\xa0\\xa0@K.Moss\\xa0\\nSioux F...  \n",
              "3945  \"How about Felix? He is sure turning into one ...  \n",
              "3946  \"You're all upset, defending this hipster band...  "
            ],
            "text/html": [
              "\n",
              "  <div id=\"df-ed5314c5-7a6c-449d-8397-6f10bdd02f1c\" class=\"colab-df-container\">\n",
              "    <div>\n",
              "<style scoped>\n",
              "    .dataframe tbody tr th:only-of-type {\n",
              "        vertical-align: middle;\n",
              "    }\n",
              "\n",
              "    .dataframe tbody tr th {\n",
              "        vertical-align: top;\n",
              "    }\n",
              "\n",
              "    .dataframe thead th {\n",
              "        text-align: right;\n",
              "    }\n",
              "</style>\n",
              "<table border=\"1\" class=\"dataframe\">\n",
              "  <thead>\n",
              "    <tr style=\"text-align: right;\">\n",
              "      <th></th>\n",
              "      <th>Insult</th>\n",
              "      <th>Date</th>\n",
              "      <th>Comment</th>\n",
              "    </tr>\n",
              "  </thead>\n",
              "  <tbody>\n",
              "    <tr>\n",
              "      <th>3942</th>\n",
              "      <td>1</td>\n",
              "      <td>20120502172717Z</td>\n",
              "      <td>\"you are both morons and that is never happening\"</td>\n",
              "    </tr>\n",
              "    <tr>\n",
              "      <th>3943</th>\n",
              "      <td>0</td>\n",
              "      <td>20120528164814Z</td>\n",
              "      <td>\"Many toolbars include spell check, like Yahoo...</td>\n",
              "    </tr>\n",
              "    <tr>\n",
              "      <th>3944</th>\n",
              "      <td>0</td>\n",
              "      <td>20120620142813Z</td>\n",
              "      <td>\"@LambeauOrWrigley\\xa0\\xa0@K.Moss\\xa0\\nSioux F...</td>\n",
              "    </tr>\n",
              "    <tr>\n",
              "      <th>3945</th>\n",
              "      <td>0</td>\n",
              "      <td>20120528205648Z</td>\n",
              "      <td>\"How about Felix? He is sure turning into one ...</td>\n",
              "    </tr>\n",
              "    <tr>\n",
              "      <th>3946</th>\n",
              "      <td>0</td>\n",
              "      <td>20120515200734Z</td>\n",
              "      <td>\"You're all upset, defending this hipster band...</td>\n",
              "    </tr>\n",
              "  </tbody>\n",
              "</table>\n",
              "</div>\n",
              "    <div class=\"colab-df-buttons\">\n",
              "\n",
              "  <div class=\"colab-df-container\">\n",
              "    <button class=\"colab-df-convert\" onclick=\"convertToInteractive('df-ed5314c5-7a6c-449d-8397-6f10bdd02f1c')\"\n",
              "            title=\"Convert this dataframe to an interactive table.\"\n",
              "            style=\"display:none;\">\n",
              "\n",
              "  <svg xmlns=\"http://www.w3.org/2000/svg\" height=\"24px\" viewBox=\"0 -960 960 960\">\n",
              "    <path d=\"M120-120v-720h720v720H120Zm60-500h600v-160H180v160Zm220 220h160v-160H400v160Zm0 220h160v-160H400v160ZM180-400h160v-160H180v160Zm440 0h160v-160H620v160ZM180-180h160v-160H180v160Zm440 0h160v-160H620v160Z\"/>\n",
              "  </svg>\n",
              "    </button>\n",
              "\n",
              "  <style>\n",
              "    .colab-df-container {\n",
              "      display:flex;\n",
              "      gap: 12px;\n",
              "    }\n",
              "\n",
              "    .colab-df-convert {\n",
              "      background-color: #E8F0FE;\n",
              "      border: none;\n",
              "      border-radius: 50%;\n",
              "      cursor: pointer;\n",
              "      display: none;\n",
              "      fill: #1967D2;\n",
              "      height: 32px;\n",
              "      padding: 0 0 0 0;\n",
              "      width: 32px;\n",
              "    }\n",
              "\n",
              "    .colab-df-convert:hover {\n",
              "      background-color: #E2EBFA;\n",
              "      box-shadow: 0px 1px 2px rgba(60, 64, 67, 0.3), 0px 1px 3px 1px rgba(60, 64, 67, 0.15);\n",
              "      fill: #174EA6;\n",
              "    }\n",
              "\n",
              "    .colab-df-buttons div {\n",
              "      margin-bottom: 4px;\n",
              "    }\n",
              "\n",
              "    [theme=dark] .colab-df-convert {\n",
              "      background-color: #3B4455;\n",
              "      fill: #D2E3FC;\n",
              "    }\n",
              "\n",
              "    [theme=dark] .colab-df-convert:hover {\n",
              "      background-color: #434B5C;\n",
              "      box-shadow: 0px 1px 3px 1px rgba(0, 0, 0, 0.15);\n",
              "      filter: drop-shadow(0px 1px 2px rgba(0, 0, 0, 0.3));\n",
              "      fill: #FFFFFF;\n",
              "    }\n",
              "  </style>\n",
              "\n",
              "    <script>\n",
              "      const buttonEl =\n",
              "        document.querySelector('#df-ed5314c5-7a6c-449d-8397-6f10bdd02f1c button.colab-df-convert');\n",
              "      buttonEl.style.display =\n",
              "        google.colab.kernel.accessAllowed ? 'block' : 'none';\n",
              "\n",
              "      async function convertToInteractive(key) {\n",
              "        const element = document.querySelector('#df-ed5314c5-7a6c-449d-8397-6f10bdd02f1c');\n",
              "        const dataTable =\n",
              "          await google.colab.kernel.invokeFunction('convertToInteractive',\n",
              "                                                    [key], {});\n",
              "        if (!dataTable) return;\n",
              "\n",
              "        const docLinkHtml = 'Like what you see? Visit the ' +\n",
              "          '<a target=\"_blank\" href=https://colab.research.google.com/notebooks/data_table.ipynb>data table notebook</a>'\n",
              "          + ' to learn more about interactive tables.';\n",
              "        element.innerHTML = '';\n",
              "        dataTable['output_type'] = 'display_data';\n",
              "        await google.colab.output.renderOutput(dataTable, element);\n",
              "        const docLink = document.createElement('div');\n",
              "        docLink.innerHTML = docLinkHtml;\n",
              "        element.appendChild(docLink);\n",
              "      }\n",
              "    </script>\n",
              "  </div>\n",
              "\n",
              "\n",
              "<div id=\"df-46988163-94cb-4b0b-b973-9e1a78f51819\">\n",
              "  <button class=\"colab-df-quickchart\" onclick=\"quickchart('df-46988163-94cb-4b0b-b973-9e1a78f51819')\"\n",
              "            title=\"Suggest charts\"\n",
              "            style=\"display:none;\">\n",
              "\n",
              "<svg xmlns=\"http://www.w3.org/2000/svg\" height=\"24px\"viewBox=\"0 0 24 24\"\n",
              "     width=\"24px\">\n",
              "    <g>\n",
              "        <path d=\"M19 3H5c-1.1 0-2 .9-2 2v14c0 1.1.9 2 2 2h14c1.1 0 2-.9 2-2V5c0-1.1-.9-2-2-2zM9 17H7v-7h2v7zm4 0h-2V7h2v10zm4 0h-2v-4h2v4z\"/>\n",
              "    </g>\n",
              "</svg>\n",
              "  </button>\n",
              "\n",
              "<style>\n",
              "  .colab-df-quickchart {\n",
              "      --bg-color: #E8F0FE;\n",
              "      --fill-color: #1967D2;\n",
              "      --hover-bg-color: #E2EBFA;\n",
              "      --hover-fill-color: #174EA6;\n",
              "      --disabled-fill-color: #AAA;\n",
              "      --disabled-bg-color: #DDD;\n",
              "  }\n",
              "\n",
              "  [theme=dark] .colab-df-quickchart {\n",
              "      --bg-color: #3B4455;\n",
              "      --fill-color: #D2E3FC;\n",
              "      --hover-bg-color: #434B5C;\n",
              "      --hover-fill-color: #FFFFFF;\n",
              "      --disabled-bg-color: #3B4455;\n",
              "      --disabled-fill-color: #666;\n",
              "  }\n",
              "\n",
              "  .colab-df-quickchart {\n",
              "    background-color: var(--bg-color);\n",
              "    border: none;\n",
              "    border-radius: 50%;\n",
              "    cursor: pointer;\n",
              "    display: none;\n",
              "    fill: var(--fill-color);\n",
              "    height: 32px;\n",
              "    padding: 0;\n",
              "    width: 32px;\n",
              "  }\n",
              "\n",
              "  .colab-df-quickchart:hover {\n",
              "    background-color: var(--hover-bg-color);\n",
              "    box-shadow: 0 1px 2px rgba(60, 64, 67, 0.3), 0 1px 3px 1px rgba(60, 64, 67, 0.15);\n",
              "    fill: var(--button-hover-fill-color);\n",
              "  }\n",
              "\n",
              "  .colab-df-quickchart-complete:disabled,\n",
              "  .colab-df-quickchart-complete:disabled:hover {\n",
              "    background-color: var(--disabled-bg-color);\n",
              "    fill: var(--disabled-fill-color);\n",
              "    box-shadow: none;\n",
              "  }\n",
              "\n",
              "  .colab-df-spinner {\n",
              "    border: 2px solid var(--fill-color);\n",
              "    border-color: transparent;\n",
              "    border-bottom-color: var(--fill-color);\n",
              "    animation:\n",
              "      spin 1s steps(1) infinite;\n",
              "  }\n",
              "\n",
              "  @keyframes spin {\n",
              "    0% {\n",
              "      border-color: transparent;\n",
              "      border-bottom-color: var(--fill-color);\n",
              "      border-left-color: var(--fill-color);\n",
              "    }\n",
              "    20% {\n",
              "      border-color: transparent;\n",
              "      border-left-color: var(--fill-color);\n",
              "      border-top-color: var(--fill-color);\n",
              "    }\n",
              "    30% {\n",
              "      border-color: transparent;\n",
              "      border-left-color: var(--fill-color);\n",
              "      border-top-color: var(--fill-color);\n",
              "      border-right-color: var(--fill-color);\n",
              "    }\n",
              "    40% {\n",
              "      border-color: transparent;\n",
              "      border-right-color: var(--fill-color);\n",
              "      border-top-color: var(--fill-color);\n",
              "    }\n",
              "    60% {\n",
              "      border-color: transparent;\n",
              "      border-right-color: var(--fill-color);\n",
              "    }\n",
              "    80% {\n",
              "      border-color: transparent;\n",
              "      border-right-color: var(--fill-color);\n",
              "      border-bottom-color: var(--fill-color);\n",
              "    }\n",
              "    90% {\n",
              "      border-color: transparent;\n",
              "      border-bottom-color: var(--fill-color);\n",
              "    }\n",
              "  }\n",
              "</style>\n",
              "\n",
              "  <script>\n",
              "    async function quickchart(key) {\n",
              "      const quickchartButtonEl =\n",
              "        document.querySelector('#' + key + ' button');\n",
              "      quickchartButtonEl.disabled = true;  // To prevent multiple clicks.\n",
              "      quickchartButtonEl.classList.add('colab-df-spinner');\n",
              "      try {\n",
              "        const charts = await google.colab.kernel.invokeFunction(\n",
              "            'suggestCharts', [key], {});\n",
              "      } catch (error) {\n",
              "        console.error('Error during call to suggestCharts:', error);\n",
              "      }\n",
              "      quickchartButtonEl.classList.remove('colab-df-spinner');\n",
              "      quickchartButtonEl.classList.add('colab-df-quickchart-complete');\n",
              "    }\n",
              "    (() => {\n",
              "      let quickchartButtonEl =\n",
              "        document.querySelector('#df-46988163-94cb-4b0b-b973-9e1a78f51819 button');\n",
              "      quickchartButtonEl.style.display =\n",
              "        google.colab.kernel.accessAllowed ? 'block' : 'none';\n",
              "    })();\n",
              "  </script>\n",
              "</div>\n",
              "\n",
              "    </div>\n",
              "  </div>\n"
            ],
            "application/vnd.google.colaboratory.intrinsic+json": {
              "type": "dataframe",
              "repr_error": "0"
            }
          },
          "metadata": {},
          "execution_count": 6
        }
      ],
      "source": [
        "df.tail()"
      ]
    },
    {
      "cell_type": "markdown",
      "metadata": {
        "id": "Ibxc3U3K-rRh"
      },
      "source": [
        "Now we define the text sequences $\\mathbf{T}$ and the label sequence  $\\mathbf{L}$."
      ]
    },
    {
      "cell_type": "code",
      "execution_count": 7,
      "metadata": {
        "id": "wty7pj42-rRh"
      },
      "outputs": [],
      "source": [
        "T = df['Comment']"
      ]
    },
    {
      "cell_type": "code",
      "execution_count": 8,
      "metadata": {
        "id": "-8xJstOo-rRi"
      },
      "outputs": [],
      "source": [
        "L = df['Insult']"
      ]
    },
    {
      "cell_type": "markdown",
      "metadata": {
        "id": "0-jA8hKMgpVt"
      },
      "source": [
        "### Step 2 Split the data and labels into training and test groups"
      ]
    },
    {
      "cell_type": "code",
      "execution_count": 9,
      "metadata": {
        "id": "TuMg-aCRgpVt"
      },
      "outputs": [],
      "source": [
        "T1, T2, L1, L2 = train_test_split(T,L)"
      ]
    },
    {
      "cell_type": "markdown",
      "metadata": {
        "id": "CYHZiN3agpVt"
      },
      "source": [
        "### Step 3 and 4:  Fit the feature model (vectorizer) to the training data and Transform  it"
      ]
    },
    {
      "cell_type": "code",
      "execution_count": 10,
      "metadata": {
        "id": "H-fPVjYV-rRl"
      },
      "outputs": [],
      "source": [
        "tf = text.TfidfVectorizer()\n",
        "# Scikit learn has one function that does both fitting and transforming.\n",
        "# M1 is the transformed data\n",
        "# tf is the trained feature model (which will be used to transform the test data)\n",
        "M1 = tf.fit_transform(T1)#.toarray()"
      ]
    },
    {
      "cell_type": "markdown",
      "metadata": {
        "id": "k0wp6RbS-rRo"
      },
      "source": [
        "### Step 5 Training the classifier"
      ]
    },
    {
      "cell_type": "markdown",
      "metadata": {
        "id": "88mG_1C0-rRo"
      },
      "source": [
        "Now, we are going to train a classifier as usual. We first split the data into a train and test set."
      ]
    },
    {
      "cell_type": "markdown",
      "metadata": {
        "id": "Xf-3XQDN-rRo"
      },
      "source": [
        "We use a **Bernoulli Naive Bayes classifier**."
      ]
    },
    {
      "cell_type": "code",
      "execution_count": 11,
      "metadata": {
        "id": "uj7vvTS--rRo"
      },
      "outputs": [],
      "source": [
        "# Create classifer\n",
        "bnb =nb.BernoulliNB()\n",
        "#bnb= nb.MultinomialNB()\n",
        "#bnb =nb.GaussianNB()\n",
        "\n",
        "# Fit (train) the classifier  using the training data and labels\n",
        "bnb.fit(M1, L1);"
      ]
    },
    {
      "cell_type": "markdown",
      "metadata": {
        "id": "ZZ8O--5-gpVu"
      },
      "source": [
        "This function collects what we've down so far, plus it produces predictions for the test data."
      ]
    },
    {
      "cell_type": "code",
      "execution_count": 12,
      "metadata": {
        "id": "X6OXPyx1gpVu"
      },
      "outputs": [],
      "source": [
        "def split_vectorize_and_fit(docs,labels,clf,**params):\n",
        "    \"\"\"\n",
        "    Given labeled data (docs, labels) and a classifier,\n",
        "    do the training test split.  Train the vectorizer and the classifier.\n",
        "    Transform the test data and return a set of preducted labels\n",
        "    for the test data,\n",
        "    \"\"\"\n",
        "    T_train,T_test, y_train,y_test = train_test_split(docs,labels)\n",
        "    tf = text.TfidfVectorizer(**params)\n",
        "    X_train = tf.fit_transform(T_train)\n",
        "    clf_inst = clf()\n",
        "    clf_inst.fit(X_train, y_train)\n",
        "    X_test = tf.transform(T_test)\n",
        "    return clf_inst.predict(X_test), y_test"
      ]
    },
    {
      "cell_type": "markdown",
      "metadata": {
        "id": "kDakCZykgpVu"
      },
      "source": [
        "### Evaluation"
      ]
    },
    {
      "cell_type": "markdown",
      "metadata": {
        "id": "0V0NvENagpVu"
      },
      "source": [
        "Evaluate the classifier, first using accuracy (what `.score()` returns)."
      ]
    },
    {
      "cell_type": "code",
      "execution_count": 13,
      "metadata": {
        "colab": {
          "base_uri": "https://localhost:8080/"
        },
        "id": "rewbP2vT-rRp",
        "outputId": "4f435099-2692-4686-94e7-7aa583176fd7"
      },
      "outputs": [
        {
          "output_type": "execute_result",
          "data": {
            "text/plain": [
              "0.790273556231003"
            ]
          },
          "metadata": {},
          "execution_count": 13
        }
      ],
      "source": [
        "# vectorize the test data using the vectorizer trained on T1\n",
        "# Notice we DONT call .fit_transform() because that would retrain the vectorizer on the test data\n",
        "# We call .transform() using the trained model to transform the new data.\n",
        "# Words not seen during training will be ignored.\n",
        "M2 = tf.transform(T2)#.toarray()\n",
        "# Classify the data using the trained classisifer and report the accuracy\n",
        "bnb.score(M2, L2)"
      ]
    },
    {
      "cell_type": "markdown",
      "metadata": {
        "id": "p38bf79W-rRp"
      },
      "source": [
        "Now try re-executing steps 2 through 5.  (Just re-execute the cells)  The results should be the same, right?\n",
        "\n",
        "Well, are they?  \n",
        "\n",
        "What happens:  each training test split produces a different set of test data.  Sometimes the test is harder.\n",
        "Sometimes it's easier.  Or looking at it another way:  Sometimes the training data is a better preparation for the test than others.  \n",
        "\n",
        "To get a realistic view of how our classifier is doing we take the average performance on a  number of\n",
        "train/test splits.  This is called **cross validation**.  We return to that point below."
      ]
    },
    {
      "cell_type": "markdown",
      "metadata": {
        "id": "QQgtw_TqgpVu"
      },
      "source": [
        "#### Using all three evaluation metrics"
      ]
    },
    {
      "cell_type": "markdown",
      "metadata": {
        "id": "mCWe2kzTgpVu"
      },
      "source": [
        "First let's get more evaluation numbers, in particular precision and recall.  We do\n",
        "that by calling a method that returns the predicted labels P2, so we can compare\n",
        "L2 and P2 using different evaluation metrics."
      ]
    },
    {
      "cell_type": "code",
      "execution_count": 14,
      "metadata": {
        "id": "HCay1l2ZgpVu",
        "outputId": "513683c1-cbd8-4ad7-dd99-3c89365b70d2",
        "colab": {
          "base_uri": "https://localhost:8080/"
        }
      },
      "outputs": [
        {
          "output_type": "stream",
          "name": "stdout",
          "text": [
            "Accuracy: 0.79 Precision: 0.15 Recall: 0.82\n"
          ]
        }
      ],
      "source": [
        "P2 = bnb.predict(M2)\n",
        "scores = np.array([accuracy_score(P2, L2),\n",
        "                   precision_score(P2, L2),\n",
        "                   recall_score(P2, L2)])\n",
        "print(f'Accuracy: {scores[0]:.2f} Precision: {scores[1]:.2f} Recall: {scores[2]:.2f}')"
      ]
    },
    {
      "cell_type": "markdown",
      "metadata": {
        "id": "tifxbZImgpVv"
      },
      "source": [
        "We see that the accuracy is a bit misleading.  There is a serious precision problem.\n",
        "\n",
        "What does that mean in the setting of insult detection?  It means the BNB classifier is a little too\n",
        "eager to call something an insult.  When it flags something as an insult, it\n",
        "is right only 14% of the time.\n",
        "\n",
        "Why would that be?  Think about how the model is trained and what its weakness might be.\n",
        "This is what it means to try to interpret or discuss a model's performance.  Zoom\n",
        "in the model's weakness. Talk about where that weakness comes from."
      ]
    },
    {
      "cell_type": "markdown",
      "metadata": {
        "id": "r-bt36GeMpFW"
      },
      "source": [
        "#### Basic train and test loop\n",
        "\n",
        "See the Insults with Naive Bayes Notebook."
      ]
    },
    {
      "cell_type": "markdown",
      "metadata": {
        "collapsed": true,
        "id": "zaE0KDK5-rRr"
      },
      "source": [
        "## Homework"
      ]
    },
    {
      "cell_type": "markdown",
      "metadata": {
        "id": "Fg50G61U-rRr"
      },
      "source": [
        "Work through the Insults Detection notebook about text classification and\n",
        "insult detection. Focus on the use of `scikit_learn`, especially the\n",
        "`TfidfVectorizer`. For this assignment you will be turning in the Python notebook (extension `.ipynb`, **not** a `.py` file).  Turn in this notebook with all the code needed to run your classifier.  If it doesn't run, your score will suffer.\n",
        "\n",
        "For Parts One and Two try two different classifiers on the movie review data, the one used in the textbook, an SVM called `LinearSVC`, and  the Bernoulli Naive Bayes model used above. Some points of emphasis;"
      ]
    },
    {
      "cell_type": "markdown",
      "metadata": {
        "id": "ez_VsvksgpVw"
      },
      "source": [
        "#### PART ONE\n",
        "\n",
        "1.  Be sure to get the average of at runs  least 10 runs for **both** classifiers.  2 points\n",
        "2.  Be sure to get average accuracy, precision, and recall for both classifiers on those multiple runs. You will probably find `split_vectorize_and_fit` defined above useful, but you will need to modify it.  2 points.\n",
        "3.  Discuss which of the two classifiers does better.  Discuss which metric the best classifier does the worst at and speculate as to why (this will require reviewing the definitions of precision and recall and thinking about what they mean in a movie review setting). 3 points.\n",
        "4. Do a new training/test split on the data and train and test an SVM model.  Choose one false positive and one false negative from the test set.  Call these documents $j$ and $k$ and call their functional margins $c_j$ and $c_k$ (see the SVM notebook).  Find\n",
        "\n",
        "$$\n",
        "\\frac{c_{j}}{c_{max}-c_{min}}\n",
        "$$\n",
        "\n",
        "and\n",
        "\n",
        "$$\n",
        "\\frac{c_{k}}{c_{max}-c_{min}},\n",
        "$$\n",
        "\n",
        "where $c_{max}$ and $c_{min}$ are the maximum and minimum functional margins for the training set.  Are documents $j$ and $k$ misclassified with high confidence?  Of course getting credit for this part means submitting the code you used to compute these quantities.  For the computation of functional margins, it will be convenient to relabel positive and negative classes 1 and -1 respectively. 5 points"
      ]
    },
    {
      "cell_type": "code",
      "source": [
        "from sklearn.metrics import accuracy_score, precision_score, recall_score\n",
        "import numpy as np\n",
        "\n",
        "def split_vectorize_and_fit_multiple_runs(docs, labels, clf, runs=10, **params):\n",
        "    \"\"\"\n",
        "    Perform multiple runs of train/test splits with vectorization and classification.\n",
        "    Returns average accuracy, precision, and recall over the specified number of runs.\n",
        "    \"\"\"\n",
        "    accuracies, precisions, recalls = [], [], []\n",
        "\n",
        "    for _ in range(runs):\n",
        "        T_train, T_test, y_train, y_test = train_test_split(docs, labels, test_size=0.2, random_state=None)\n",
        "\n",
        "        tf = text.TfidfVectorizer(**params)\n",
        "        X_train = tf.fit_transform(T_train)\n",
        "        X_test = tf.transform(T_test)\n",
        "\n",
        "\n",
        "        clf_instance = clf()\n",
        "        clf_instance.fit(X_train, y_train)\n",
        "        y_pred = clf_instance.predict(X_test)\n",
        "\n",
        "\n",
        "        accuracies.append(accuracy_score(y_test, y_pred))\n",
        "        precisions.append(precision_score(y_test, y_pred, zero_division=0))\n",
        "        recalls.append(recall_score(y_test, y_pred, zero_division=0))\n",
        "\n",
        "    return np.mean(accuracies), np.mean(precisions), np.mean(recalls)"
      ],
      "metadata": {
        "id": "08u5VIavhqH3"
      },
      "execution_count": 22,
      "outputs": []
    },
    {
      "cell_type": "code",
      "source": [
        "bnb_avg_metrics = split_vectorize_and_fit_multiple_runs(T, L, nb.BernoulliNB, runs=10)\n",
        "print(f\"Bernoulli NB - Accuracy: {bnb_avg_metrics[0]:.2f}, Precision: {bnb_avg_metrics[1]:.2f}, Recall: {bnb_avg_metrics[2]:.2f}\")\n",
        "\n",
        "from sklearn.svm import LinearSVC\n",
        "svc_avg_metrics = split_vectorize_and_fit_multiple_runs(T, L, LinearSVC, runs=10)\n",
        "print(f\"Linear SVC - Accuracy: {svc_avg_metrics[0]:.2f}, Precision: {svc_avg_metrics[1]:.2f}, Recall: {svc_avg_metrics[2]:.2f}\")"
      ],
      "metadata": {
        "id": "GnblIs8UhqdL",
        "outputId": "b10bf6f8-732a-4eee-fb9e-ce5fc22e4c1c",
        "colab": {
          "base_uri": "https://localhost:8080/"
        }
      },
      "execution_count": 23,
      "outputs": [
        {
          "output_type": "stream",
          "name": "stdout",
          "text": [
            "Bernoulli NB - Accuracy: 0.77, Precision: 0.88, Recall: 0.16\n",
            "Linear SVC - Accuracy: 0.84, Precision: 0.73, Recall: 0.61\n"
          ]
        }
      ]
    },
    {
      "cell_type": "code",
      "source": [
        "L_relabel = L.replace({0: -1, 1: 1})\n",
        "\n",
        "svc = LinearSVC()\n",
        "T_train, T_test, L_train, L_test = train_test_split(T, L_relabel, test_size=0.2, random_state=42)\n",
        "M_train = tf.fit_transform(T_train)\n",
        "M_test = tf.transform(T_test)\n",
        "\n",
        "svc.fit(M_train, L_train)\n",
        "margins = svc.decision_function(M_test)"
      ],
      "metadata": {
        "id": "Sfm8EpC5hrKz"
      },
      "execution_count": 24,
      "outputs": []
    },
    {
      "cell_type": "code",
      "source": [
        "import numpy as np\n",
        "P_test = svc.predict(M_test)\n",
        "false_positives = np.where((P_test == 1) & (L_test == -1))[0]\n",
        "false_negatives = np.where((P_test == -1) & (L_test == 1))[0]\n",
        "\n",
        "j = false_positives[0]\n",
        "k = false_negatives[0]\n",
        "\n",
        "print(f\"False Positive Index: {j}, False Negative Index: {k}\")"
      ],
      "metadata": {
        "id": "84qmLhljhrB9",
        "outputId": "93b655a1-aab3-4c3b-cce2-889bb0b95565",
        "colab": {
          "base_uri": "https://localhost:8080/"
        }
      },
      "execution_count": 25,
      "outputs": [
        {
          "output_type": "stream",
          "name": "stdout",
          "text": [
            "False Positive Index: 3, False Negative Index: 13\n"
          ]
        }
      ]
    },
    {
      "cell_type": "code",
      "source": [
        "train_margins = svc.decision_function(M_train)\n",
        "c_max, c_min = train_margins.max(), train_margins.min()\n",
        "c_j = margins[j]\n",
        "c_k = margins[k]\n",
        "normalized_margin_j = (c_j - c_min) / (c_max - c_min)\n",
        "normalized_margin_k = (c_k - c_min) / (c_max - c_min)\n",
        "\n",
        "print(f\"Normalized Margin for j: {normalized_margin_j:.2f}\")\n",
        "print(f\"Normalized Margin for k: {normalized_margin_k:.2f}\")"
      ],
      "metadata": {
        "id": "Vpl2qW7Yhqqx",
        "outputId": "53bb42a9-dfbc-4496-9a39-d1e5a98e84b4",
        "colab": {
          "base_uri": "https://localhost:8080/"
        }
      },
      "execution_count": 26,
      "outputs": [
        {
          "output_type": "stream",
          "name": "stdout",
          "text": [
            "Normalized Margin for j: 0.45\n",
            "Normalized Margin for k: 0.36\n"
          ]
        }
      ]
    },
    {
      "cell_type": "markdown",
      "metadata": {
        "id": "_J4EJCR-gpVw"
      },
      "source": [
        "#### PART TWO\n",
        "\n",
        "5. Using the SVM classifier and training on **all** the data find the 50 most important Positive features for the Movie Reviews Data.  They should differ significantly from the most important features in Insult Detection. The function `print_topn` (from the Insult Detection Notebook) should be of help. 4 Points\n",
        "6.  Find the 100 most important Negative features for the Movie Reviews Data. Note that the way two-class problems work with SVMs there is only one set of weights to look at, so it won't work to pass more than one class name to the `class_labels` parameter of `print_top_n` (it would work with a NaiveBayes classifier).  In particular: you need the **lowest** weighted features if you want to look at the more fun word set that best characterized bad reviews. You will have to modify `print_topn` (from the Insult Detection Notebook) to do that. Try to do so in such a way that with one set of parameters it prints the most positive words, and with another, it prints the most negative words. You may notice the names of a few actors appearing in this feature set. Try not to laugh as the meaning of this dawns on you.  For an extra bit of approval from your instructor, while you're at it, modify it so that it returns a list of words in addition to printing them.  You should probably change the name of the function to `get_topn` if you succeed.  4 Points."
      ]
    },
    {
      "cell_type": "markdown",
      "metadata": {
        "id": "Z_wazBGWTsS4"
      },
      "source": [
        "#### Help with getting the movie reviews data.\n",
        "\n",
        "Execute the next two cells to get the movie review data."
      ]
    },
    {
      "cell_type": "code",
      "execution_count": null,
      "metadata": {
        "colab": {
          "base_uri": "https://localhost:8080/"
        },
        "id": "xvlkaI1x-rRr",
        "outputId": "5a8c9f38-c83f-49c9-97cd-0fa65d541ca4"
      },
      "outputs": [
        {
          "name": "stderr",
          "output_type": "stream",
          "text": [
            "[nltk_data] Downloading package movie_reviews to\n",
            "[nltk_data]     /Users/gawron/nltk_data...\n",
            "[nltk_data]   Unzipping corpora/movie_reviews.zip.\n"
          ]
        },
        {
          "data": {
            "text/plain": [
              "True"
            ]
          },
          "execution_count": 44,
          "metadata": {},
          "output_type": "execute_result"
        }
      ],
      "source": [
        "import nltk\n",
        "nltk.download('movie_reviews')"
      ]
    },
    {
      "cell_type": "code",
      "execution_count": null,
      "metadata": {
        "id": "8nQdcr4aH_dP"
      },
      "outputs": [],
      "source": [
        "from nltk.corpus import movie_reviews as mr\n",
        "\n",
        "def get_file_strings (corpus, file_ids):\n",
        "    return [corpus.raw(file_id) for file_id in file_ids]\n",
        "\n",
        "data = dict(pos = mr.fileids('pos'),\n",
        "            neg = mr.fileids('neg'))\n",
        "\n",
        "pos_file_ids = data['pos']\n",
        "neg_file_ids = data['neg']\n",
        "\n",
        "# Get all the positive and negative reviews.\n",
        "pos_file_reviews = get_file_strings (mr, pos_file_ids)\n",
        "neg_file_reviews = get_file_strings (mr, neg_file_ids)"
      ]
    },
    {
      "cell_type": "markdown",
      "metadata": {
        "id": "_PY6_uHMJvqC"
      },
      "source": [
        "Each review is a string.  In principle, a list of strings like `pos_file_reviews`  can be passed to `text.TfidfVectorizer()` via the `fit_transform` method to train a vectorizer for machine learning.\n",
        "You could code that up.\n",
        "\n",
        "What you'd really like to do is use `split_fit_and_eval`, defined above, which does a lot of the work for you.\n",
        "\n",
        "But hold on. You have a coding problem. You don't have  a sequence of documents and labels.  Instead you have\n",
        "one sequence of positive documents  and another sequence of negative documents.  \n",
        "\n",
        "So you will need to turn those two sequences into a sequence of documents and a sequence of labels\n",
        "because that's what `split_fit_and_eval` wants.  You also want the doc sequence\n",
        "to contain a random mixture of positive and negative documents, because some machine\n",
        "learning algorithms are sensitive to the order in which training data is presented to\n",
        "them.\n",
        "\n",
        "The next cell does **not** do that for you.  But it illustrates an approach using\n",
        "two sets of English letters in place of two sets of English documents."
      ]
    },
    {
      "cell_type": "code",
      "execution_count": null,
      "metadata": {
        "id": "ZAzJqrh_gpVx",
        "outputId": "1e0cf235-9602-4a34-d53f-5e067e18fd23"
      },
      "outputs": [
        {
          "data": {
            "text/plain": [
              "[('a', 'b', 'c'), (1, 2, 3)]"
            ]
          },
          "execution_count": 20,
          "metadata": {},
          "output_type": "execute_result"
        }
      ],
      "source": [
        "list(zip(*[('a',1),('b',2),('c',3)]))"
      ]
    },
    {
      "cell_type": "code",
      "execution_count": null,
      "metadata": {
        "colab": {
          "base_uri": "https://localhost:8080/"
        },
        "id": "ZCdgmoToRV8z",
        "outputId": "13bdbe23-796e-44db-90e6-abd0277a6bed"
      },
      "outputs": [
        {
          "name": "stdout",
          "output_type": "stream",
          "text": [
            "abcdefghijklm\n",
            "nopqrstuvwxyz\n",
            "('o', 'w', 'e', 'q', 'c', 'z', 'f', 't', 'i', 'y', 'h', 'g', 'x', 'm', 'l', 'u', 'a', 's', 'v', 'b', 'd', 'r', 'n', 'k', 'j', 'p')\n",
            "('l', 'l', 'f', 'l', 'f', 'l', 'f', 'l', 'f', 'l', 'f', 'f', 'l', 'f', 'f', 'l', 'f', 'l', 'l', 'f', 'f', 'l', 'l', 'f', 'f', 'l')\n"
          ]
        }
      ],
      "source": [
        "# Lets work on letters instead of documents\n",
        "# There are 2 classes, letters from the first half of the\n",
        "# alphabet ('f') and letters frmm the last half ('l')\n",
        "\n",
        "from random import shuffle\n",
        "from string import ascii_lowercase\n",
        "\n",
        "#Class 1 of the letters: the f_lets\n",
        "f_lets = ascii_lowercase[:13]\n",
        "print(f_lets)\n",
        "#Class2 of the letters: the l_lets\n",
        "l_lets = ascii_lowercase[13:]\n",
        "print(l_lets)\n",
        "\n",
        "# Now get pairs of letters and labels\n",
        "f_pairs = [(let,'f') for let in f_lets]\n",
        "l_pairs = [(let,'l') for let in l_lets]\n",
        "\n",
        "###########  Shuffling  ###########################\n",
        "# Way too orderly, the classes arent mixed yet.\n",
        "data = f_pairs + l_pairs\n",
        "shuffle(data)\n",
        "###################  Now they're shuffled! ###############\n",
        "\n",
        "# Separate the letters from their labels\n",
        "lets, lbls = zip(*data)\n",
        "print(lets)\n",
        "print(lbls)"
      ]
    },
    {
      "cell_type": "code",
      "execution_count": null,
      "metadata": {
        "id": "plz8p6d0gpVx",
        "outputId": "72390758-54d4-4f66-a95c-4b08fe7c757a"
      },
      "outputs": [
        {
          "data": {
            "text/plain": [
              "[(1, 2, 3), ('a', 'b', 'c')]"
            ]
          },
          "execution_count": 18,
          "metadata": {},
          "output_type": "execute_result"
        }
      ],
      "source": [
        "list(zip(*[(1,\"a\"),(2,\"b\"),(3,\"c\")]))"
      ]
    },
    {
      "cell_type": "code",
      "execution_count": null,
      "metadata": {
        "id": "Ywz3hEo3gpVx"
      },
      "outputs": [],
      "source": []
    }
  ],
  "metadata": {
    "colab": {
      "name": "text_classification_assignment.ipynb",
      "provenance": []
    },
    "kernelspec": {
      "display_name": "Python 3 (ipykernel)",
      "language": "python",
      "name": "python3"
    },
    "language_info": {
      "codemirror_mode": {
        "name": "ipython",
        "version": 3
      },
      "file_extension": ".py",
      "mimetype": "text/x-python",
      "name": "python",
      "nbconvert_exporter": "python",
      "pygments_lexer": "ipython3",
      "version": "3.10.13"
    },
    "toc": {
      "base_numbering": 1,
      "nav_menu": {
        "height": "94px",
        "width": "252px"
      },
      "number_sections": true,
      "sideBar": true,
      "skip_h1_title": false,
      "title_cell": "Table of Contents",
      "title_sidebar": "Contents",
      "toc_cell": false,
      "toc_position": {},
      "toc_section_display": "block",
      "toc_window_display": false
    }
  },
  "nbformat": 4,
  "nbformat_minor": 0
}